{
 "cells": [
  {
   "cell_type": "markdown",
   "id": "0409a88e",
   "metadata": {},
   "source": [
    "# Import Library"
   ]
  },
  {
   "cell_type": "code",
   "execution_count": 1,
   "id": "b54955b2",
   "metadata": {},
   "outputs": [],
   "source": [
    "import tensorflow as tf"
   ]
  },
  {
   "cell_type": "markdown",
   "id": "a00dd6d3",
   "metadata": {},
   "source": [
    "# How to Create a Tensor"
   ]
  },
  {
   "cell_type": "markdown",
   "id": "51211b68",
   "metadata": {},
   "source": [
    "## 1. Constant Tensor"
   ]
  },
  {
   "cell_type": "markdown",
   "id": "b799c67d",
   "metadata": {},
   "source": [
    "### A. tf.constant()"
   ]
  },
  {
   "cell_type": "code",
   "execution_count": 2,
   "id": "9cc956fa",
   "metadata": {},
   "outputs": [
    {
     "data": {
      "text/plain": [
       "<tf.Tensor: shape=(2, 2), dtype=float32, numpy=\n",
       "array([[1., 2.],\n",
       "       [3., 4.]], dtype=float32)>"
      ]
     },
     "execution_count": 2,
     "metadata": {},
     "output_type": "execute_result"
    }
   ],
   "source": [
    "#membuat nilai konstanta menggunakan TensorFlow\n",
    "const_a = tf.constant([1,2,3,4], shape=[2,2], dtype=tf.float32)\n",
    "\n",
    "#Print Nilai konstanta TensorFlow\n",
    "const_a"
   ]
  },
  {
   "cell_type": "markdown",
   "id": "8815bf3e",
   "metadata": {},
   "source": [
    "### B. tf.zeros()"
   ]
  },
  {
   "cell_type": "code",
   "execution_count": 3,
   "id": "fed411a6",
   "metadata": {},
   "outputs": [
    {
     "data": {
      "text/plain": [
       "<tf.Tensor: shape=(2, 3), dtype=int32, numpy=\n",
       "array([[0, 0, 0],\n",
       "       [0, 0, 0]])>"
      ]
     },
     "execution_count": 3,
     "metadata": {},
     "output_type": "execute_result"
    }
   ],
   "source": [
    "#Penggunaan tf.zeros\n",
    "zeros_b = tf.zeros(shape=[2, 3], dtype=tf.int32)\n",
    "\n",
    "#Pengecekan nilai constant\n",
    "zeros_b"
   ]
  },
  {
   "cell_type": "markdown",
   "id": "63c830d7",
   "metadata": {},
   "source": [
    "### C. tf.fill()"
   ]
  },
  {
   "cell_type": "code",
   "execution_count": 4,
   "id": "7bb6fc3f",
   "metadata": {},
   "outputs": [
    {
     "data": {
      "text/plain": [
       "<tf.Tensor: shape=(3, 3), dtype=int32, numpy=\n",
       "array([[8, 8, 8],\n",
       "       [8, 8, 8],\n",
       "       [8, 8, 8]])>"
      ]
     },
     "execution_count": 4,
     "metadata": {},
     "output_type": "execute_result"
    }
   ],
   "source": [
    "#penggunaan tf.fill()\n",
    "fill_d = tf.fill([3,3], 8)\n",
    "\n",
    "#Pengecekan nilai constant\n",
    "fill_d"
   ]
  },
  {
   "cell_type": "markdown",
   "id": "c5e724f0",
   "metadata": {},
   "source": [
    "### D. tf.random()\n",
    "\n",
    "###### shape: A 1-D integer Tensor or Python array. The shape of the output tensor.\n",
    "###### mean: A Tensor or Python value of type dtype, broadcastable with stddev. The mean of the normal distribution.\n",
    "###### stddev: A Tensor or Python value of type dtype, broadcastable with mean. The standard deviation of the normal distribution.\n",
    "###### dtype: The type of the output.\n",
    "###### seed: \tA Python integer. Used to create a random seed for the distribution. See tf.random.set_seed for behavior.\n",
    "###### name: A name for the operation (optional).\n"
   ]
  },
  {
   "cell_type": "code",
   "execution_count": 5,
   "id": "c64107bf",
   "metadata": {},
   "outputs": [
    {
     "data": {
      "text/plain": [
       "<tf.Tensor: shape=(3, 3), dtype=float32, numpy=\n",
       "array([[-2.3695185 , -1.5576515 , -0.03796951],\n",
       "       [-0.16169445,  0.3917277 , -1.3685622 ],\n",
       "       [ 1.2888266 , -0.67399544, -0.01773659]], dtype=float32)>"
      ]
     },
     "execution_count": 5,
     "metadata": {},
     "output_type": "execute_result"
    }
   ],
   "source": [
    "#penggunaan tf.random.normal()\n",
    "random_e = tf.random.normal([3,3],mean=0.0,stddev=1.0)\n",
    "\n",
    "#Pengecekan nilai constant\n",
    "random_e"
   ]
  },
  {
   "cell_type": "markdown",
   "id": "3eb73687",
   "metadata": {},
   "source": [
    "### E. tf.convert_to_tensor\n",
    "\n",
    "###### value: An object whose type has a registered Tensor conversion function.\n",
    "###### dtype: Optional element type for the returned tensor. If missing, the type is inferred from the type of value.\n",
    "###### dtype_hint: Optional element type for the returned tensor, used when dtype is None. In some cases, a caller may not have a dtype in mind when converting to a tensor, so dtype_hint can be used as a soft preference. If the conversion to dtype_hint is not possible, this argument has no effect.\n",
    "###### Name:\tOptional name to use if a new Tensor is created."
   ]
  },
  {
   "cell_type": "code",
   "execution_count": 6,
   "id": "d4ad3a22",
   "metadata": {},
   "outputs": [
    {
     "data": {
      "text/plain": [
       "<tf.Tensor: shape=(2, 6), dtype=float32, numpy=\n",
       "array([[1., 2., 3., 4., 5., 6.],\n",
       "       [1., 2., 3., 4., 5., 6.]], dtype=float32)>"
      ]
     },
     "execution_count": 6,
     "metadata": {},
     "output_type": "execute_result"
    }
   ],
   "source": [
    "#Pembuatan list untuk dimasukkan kedalam Tensor\n",
    "list_f = [[1,2,3,4,5,6],[1,2,3,4,5,6]]\n",
    "\n",
    "#Penggunaan tf.convert_to_tensor\n",
    "tensor_f = tf.convert_to_tensor(list_f, dtype=tf.float32)\n",
    "\n",
    "#Pengecekan nilai constant\n",
    "tensor_f"
   ]
  },
  {
   "cell_type": "markdown",
   "id": "9fcbb175",
   "metadata": {},
   "source": [
    "## 2. Variable Tensor"
   ]
  },
  {
   "cell_type": "code",
   "execution_count": 7,
   "id": "30af75e9",
   "metadata": {},
   "outputs": [
    {
     "data": {
      "text/plain": [
       "<tf.Variable 'Variable:0' shape=(2, 3) dtype=float32, numpy=\n",
       "array([[1., 1., 1.],\n",
       "       [1., 1., 1.]], dtype=float32)>"
      ]
     },
     "execution_count": 7,
     "metadata": {},
     "output_type": "execute_result"
    }
   ],
   "source": [
    "#Penggunaan tf.Variable\n",
    "var_1 = tf.Variable(tf.ones([2,3]))\n",
    "\n",
    "#Output dari tf.Variable\n",
    "var_1"
   ]
  },
  {
   "cell_type": "code",
   "execution_count": 8,
   "id": "8de4260a",
   "metadata": {},
   "outputs": [
    {
     "name": "stdout",
     "output_type": "stream",
     "text": [
      "Nilai dari var_1: tf.Tensor(\n",
      "[[1. 1. 1.]\n",
      " [1. 1. 1.]], shape=(2, 3), dtype=float32)\n"
     ]
    }
   ],
   "source": [
    "#nilai dari var_1 Sebelum diubah\n",
    "print(\"Nilai dari var_1:\",var_1.read_value())"
   ]
  },
  {
   "cell_type": "code",
   "execution_count": 9,
   "id": "cd318080",
   "metadata": {},
   "outputs": [
    {
     "name": "stdout",
     "output_type": "stream",
     "text": [
      "Nilai dari var_1 Setelah di assign: tf.Tensor(\n",
      "[[1. 2. 3.]\n",
      " [4. 5. 6.]], shape=(2, 3), dtype=float32)\n"
     ]
    }
   ],
   "source": [
    "#nilai dari var_1 setelah di assign\n",
    "var_value_1=[[1,2,3],[4,5,6]]\n",
    "var_1.assign(var_value_1)\n",
    "print(\"Nilai dari var_1 Setelah di assign:\",var_1.read_value())\n",
    "\n"
   ]
  },
  {
   "cell_type": "code",
   "execution_count": 10,
   "id": "4558eb9c",
   "metadata": {},
   "outputs": [
    {
     "data": {
      "text/plain": [
       "<tf.Variable 'Variable:0' shape=(2, 3) dtype=float32, numpy=\n",
       "array([[2., 3., 4.],\n",
       "       [5., 6., 7.]], dtype=float32)>"
      ]
     },
     "execution_count": 10,
     "metadata": {},
     "output_type": "execute_result"
    }
   ],
   "source": [
    "#nilia var_1 setelah di beri addition_add(ditambah dengan nilai yg ada)\n",
    "var_1.assign_add(tf.ones([2,3]))\n",
    "var_1"
   ]
  },
  {
   "cell_type": "markdown",
   "id": "12f4b520",
   "metadata": {},
   "source": [
    "# Tensor Slicing and Indexing"
   ]
  },
  {
   "cell_type": "markdown",
   "id": "f15e81e4",
   "metadata": {},
   "source": [
    "## 1. Slicing"
   ]
  },
  {
   "cell_type": "code",
   "execution_count": 11,
   "id": "d483dbff",
   "metadata": {},
   "outputs": [
    {
     "name": "stdout",
     "output_type": "stream",
     "text": [
      "Create a 4-dimensional tensor. The tensor contains four images. The size of each image is 100 x 100 x 3.\n",
      "tf.Tensor(\n",
      "[[[[ 1.3149329e-01 -3.7449169e-01 -6.1889148e-01]\n",
      "   [-1.6083885e-02  8.4681076e-01  2.0880432e-01]\n",
      "   [-3.8877577e-01 -1.5049698e+00 -9.2950350e-01]]\n",
      "\n",
      "  [[ 1.3500657e-03  2.0713738e-01  4.9072751e-01]\n",
      "   [-1.5424579e+00  4.1676688e-01 -4.7187513e-01]\n",
      "   [-1.4158642e+00  1.4068052e+00  1.2959554e+00]]\n",
      "\n",
      "  [[ 7.7605581e-01  2.6385847e-01 -1.5623240e+00]\n",
      "   [ 2.2505672e-01 -9.3854660e-01  9.9304867e-01]\n",
      "   [ 3.7833184e-01 -9.6847343e-01 -1.2843992e-01]]]\n",
      "\n",
      "\n",
      " [[[ 3.4343311e-01  1.1079037e+00  1.1948577e+00]\n",
      "   [-3.6530188e-01  1.1144372e+00  3.4119806e-01]\n",
      "   [-4.9470454e-01  1.0533648e+00 -1.1478168e+00]]\n",
      "\n",
      "  [[-8.6156428e-01 -2.3840198e-01  1.0093477e-01]\n",
      "   [-8.9816350e-01  9.0663320e-01 -1.1828864e+00]\n",
      "   [-5.2452438e-02  5.7473642e-01  1.3670043e+00]]\n",
      "\n",
      "  [[ 1.3501527e+00  1.2727159e+00 -1.8395348e+00]\n",
      "   [-1.7487348e+00  1.0122824e+00 -8.7763751e-01]\n",
      "   [-1.0161060e+00 -6.9479650e-01  8.3734286e-01]]]], shape=(2, 3, 3, 3), dtype=float32)\n"
     ]
    }
   ],
   "source": [
    "print(\"Create a 4-dimensional tensor. The tensor contains four images. The size of each image is 100 x 100 x 3.\")\n",
    "tensor_i = tf.random.normal([2,3,3,3])\n",
    "print(tensor_i)"
   ]
  },
  {
   "cell_type": "code",
   "execution_count": 12,
   "id": "7f26d860",
   "metadata": {},
   "outputs": [
    {
     "name": "stdout",
     "output_type": "stream",
     "text": [
      "\n",
      " Extract the first image.\n",
      "tf.Tensor(\n",
      "[[[ 1.3149329e-01 -3.7449169e-01 -6.1889148e-01]\n",
      "  [-1.6083885e-02  8.4681076e-01  2.0880432e-01]\n",
      "  [-3.8877577e-01 -1.5049698e+00 -9.2950350e-01]]\n",
      "\n",
      " [[ 1.3500657e-03  2.0713738e-01  4.9072751e-01]\n",
      "  [-1.5424579e+00  4.1676688e-01 -4.7187513e-01]\n",
      "  [-1.4158642e+00  1.4068052e+00  1.2959554e+00]]\n",
      "\n",
      " [[ 7.7605581e-01  2.6385847e-01 -1.5623240e+00]\n",
      "  [ 2.2505672e-01 -9.3854660e-01  9.9304867e-01]\n",
      "  [ 3.7833184e-01 -9.6847343e-01 -1.2843992e-01]]], shape=(3, 3, 3), dtype=float32)\n"
     ]
    }
   ],
   "source": [
    "#Ngambil data menggunakan index seperti biasa\n",
    "print(\"\\n Extract the first image.\")\n",
    "print(tensor_i[0,...])"
   ]
  },
  {
   "cell_type": "code",
   "execution_count": 13,
   "id": "084ee732",
   "metadata": {},
   "outputs": [
    {
     "name": "stdout",
     "output_type": "stream",
     "text": [
      "\n",
      " Extract one slice at an interval of two images.\n",
      "tf.Tensor(\n",
      "[[[[ 1.3149329e-01 -3.7449169e-01 -6.1889148e-01]\n",
      "   [-1.6083885e-02  8.4681076e-01  2.0880432e-01]\n",
      "   [-3.8877577e-01 -1.5049698e+00 -9.2950350e-01]]\n",
      "\n",
      "  [[ 1.3500657e-03  2.0713738e-01  4.9072751e-01]\n",
      "   [-1.5424579e+00  4.1676688e-01 -4.7187513e-01]\n",
      "   [-1.4158642e+00  1.4068052e+00  1.2959554e+00]]\n",
      "\n",
      "  [[ 7.7605581e-01  2.6385847e-01 -1.5623240e+00]\n",
      "   [ 2.2505672e-01 -9.3854660e-01  9.9304867e-01]\n",
      "   [ 3.7833184e-01 -9.6847343e-01 -1.2843992e-01]]]\n",
      "\n",
      "\n",
      " [[[ 3.4343311e-01  1.1079037e+00  1.1948577e+00]\n",
      "   [-3.6530188e-01  1.1144372e+00  3.4119806e-01]\n",
      "   [-4.9470454e-01  1.0533648e+00 -1.1478168e+00]]\n",
      "\n",
      "  [[-8.6156428e-01 -2.3840198e-01  1.0093477e-01]\n",
      "   [-8.9816350e-01  9.0663320e-01 -1.1828864e+00]\n",
      "   [-5.2452438e-02  5.7473642e-01  1.3670043e+00]]\n",
      "\n",
      "  [[ 1.3501527e+00  1.2727159e+00 -1.8395348e+00]\n",
      "   [-1.7487348e+00  1.0122824e+00 -8.7763751e-01]\n",
      "   [-1.0161060e+00 -6.9479650e-01  8.3734286e-01]]]], shape=(2, 3, 3, 3), dtype=float32)\n"
     ]
    }
   ],
   "source": [
    "#Ngambil data menggunakan sistem interval(dimulai dari) dan mencontohkan penggunaan '...'\n",
    "print(\"\\n Extract one slice at an interval of two images.\")\n",
    "print(tensor_i[::1,...])"
   ]
  },
  {
   "cell_type": "code",
   "execution_count": 14,
   "id": "ab0735c4",
   "metadata": {},
   "outputs": [
    {
     "name": "stdout",
     "output_type": "stream",
     "text": [
      "\n",
      " Slice data from the last element.\n",
      "tf.Tensor(\n",
      "[[[[ 3.4343311e-01  1.1079037e+00  1.1948577e+00]\n",
      "   [-3.6530188e-01  1.1144372e+00  3.4119806e-01]\n",
      "   [-4.9470454e-01  1.0533648e+00 -1.1478168e+00]]\n",
      "\n",
      "  [[-8.6156428e-01 -2.3840198e-01  1.0093477e-01]\n",
      "   [-8.9816350e-01  9.0663320e-01 -1.1828864e+00]\n",
      "   [-5.2452438e-02  5.7473642e-01  1.3670043e+00]]\n",
      "\n",
      "  [[ 1.3501527e+00  1.2727159e+00 -1.8395348e+00]\n",
      "   [-1.7487348e+00  1.0122824e+00 -8.7763751e-01]\n",
      "   [-1.0161060e+00 -6.9479650e-01  8.3734286e-01]]]\n",
      "\n",
      "\n",
      " [[[ 1.3149329e-01 -3.7449169e-01 -6.1889148e-01]\n",
      "   [-1.6083885e-02  8.4681076e-01  2.0880432e-01]\n",
      "   [-3.8877577e-01 -1.5049698e+00 -9.2950350e-01]]\n",
      "\n",
      "  [[ 1.3500657e-03  2.0713738e-01  4.9072751e-01]\n",
      "   [-1.5424579e+00  4.1676688e-01 -4.7187513e-01]\n",
      "   [-1.4158642e+00  1.4068052e+00  1.2959554e+00]]\n",
      "\n",
      "  [[ 7.7605581e-01  2.6385847e-01 -1.5623240e+00]\n",
      "   [ 2.2505672e-01 -9.3854660e-01  9.9304867e-01]\n",
      "   [ 3.7833184e-01 -9.6847343e-01 -1.2843992e-01]]]], shape=(2, 3, 3, 3), dtype=float32)\n"
     ]
    }
   ],
   "source": [
    "#Mengambil Data Dari belakang\n",
    "print(\"\\n Slice data from the last element.\")\n",
    "print(tensor_i[::-1])"
   ]
  },
  {
   "cell_type": "markdown",
   "id": "bb902117",
   "metadata": {},
   "source": [
    "## 2. Indexing"
   ]
  },
  {
   "cell_type": "markdown",
   "id": "73765ab0",
   "metadata": {},
   "source": [
    "### A. tf.gather()"
   ]
  },
  {
   "cell_type": "code",
   "execution_count": 17,
   "id": "e0a33a05",
   "metadata": {},
   "outputs": [
    {
     "ename": "InvalidArgumentError",
     "evalue": "indices[2] = 3 is not in [0, 2) [Op:GatherV2]",
     "output_type": "error",
     "traceback": [
      "\u001b[1;31m---------------------------------------------------------------------------\u001b[0m",
      "\u001b[1;31mInvalidArgumentError\u001b[0m                      Traceback (most recent call last)",
      "\u001b[1;32m~\\AppData\\Local\\Temp/ipykernel_18360/3480385056.py\u001b[0m in \u001b[0;36m<module>\u001b[1;34m\u001b[0m\n\u001b[0;32m      1\u001b[0m \u001b[1;31m#Extract the first, second, and fourth images from tensor_i ([2,2,2,3]).\u001b[0m\u001b[1;33m\u001b[0m\u001b[1;33m\u001b[0m\u001b[0m\n\u001b[0;32m      2\u001b[0m \u001b[0mindices\u001b[0m \u001b[1;33m=\u001b[0m \u001b[1;33m[\u001b[0m\u001b[1;36m0\u001b[0m\u001b[1;33m,\u001b[0m\u001b[1;36m1\u001b[0m\u001b[1;33m,\u001b[0m\u001b[1;36m3\u001b[0m\u001b[1;33m]\u001b[0m\u001b[1;33m\u001b[0m\u001b[1;33m\u001b[0m\u001b[0m\n\u001b[1;32m----> 3\u001b[1;33m \u001b[0mtf\u001b[0m\u001b[1;33m.\u001b[0m\u001b[0mgather\u001b[0m\u001b[1;33m(\u001b[0m\u001b[0mtensor_i\u001b[0m\u001b[1;33m,\u001b[0m\u001b[0maxis\u001b[0m\u001b[1;33m=\u001b[0m\u001b[1;36m0\u001b[0m\u001b[1;33m,\u001b[0m\u001b[0mindices\u001b[0m\u001b[1;33m=\u001b[0m\u001b[0mindices\u001b[0m\u001b[1;33m)\u001b[0m\u001b[1;33m\u001b[0m\u001b[1;33m\u001b[0m\u001b[0m\n\u001b[0m",
      "\u001b[1;32mc:\\Users\\USER\\AppData\\Local\\Programs\\Python\\Python39\\lib\\site-packages\\tensorflow\\python\\util\\traceback_utils.py\u001b[0m in \u001b[0;36merror_handler\u001b[1;34m(*args, **kwargs)\u001b[0m\n\u001b[0;32m    151\u001b[0m     \u001b[1;32mexcept\u001b[0m \u001b[0mException\u001b[0m \u001b[1;32mas\u001b[0m \u001b[0me\u001b[0m\u001b[1;33m:\u001b[0m\u001b[1;33m\u001b[0m\u001b[1;33m\u001b[0m\u001b[0m\n\u001b[0;32m    152\u001b[0m       \u001b[0mfiltered_tb\u001b[0m \u001b[1;33m=\u001b[0m \u001b[0m_process_traceback_frames\u001b[0m\u001b[1;33m(\u001b[0m\u001b[0me\u001b[0m\u001b[1;33m.\u001b[0m\u001b[0m__traceback__\u001b[0m\u001b[1;33m)\u001b[0m\u001b[1;33m\u001b[0m\u001b[1;33m\u001b[0m\u001b[0m\n\u001b[1;32m--> 153\u001b[1;33m       \u001b[1;32mraise\u001b[0m \u001b[0me\u001b[0m\u001b[1;33m.\u001b[0m\u001b[0mwith_traceback\u001b[0m\u001b[1;33m(\u001b[0m\u001b[0mfiltered_tb\u001b[0m\u001b[1;33m)\u001b[0m \u001b[1;32mfrom\u001b[0m \u001b[1;32mNone\u001b[0m\u001b[1;33m\u001b[0m\u001b[1;33m\u001b[0m\u001b[0m\n\u001b[0m\u001b[0;32m    154\u001b[0m     \u001b[1;32mfinally\u001b[0m\u001b[1;33m:\u001b[0m\u001b[1;33m\u001b[0m\u001b[1;33m\u001b[0m\u001b[0m\n\u001b[0;32m    155\u001b[0m       \u001b[1;32mdel\u001b[0m \u001b[0mfiltered_tb\u001b[0m\u001b[1;33m\u001b[0m\u001b[1;33m\u001b[0m\u001b[0m\n",
      "\u001b[1;32mc:\\Users\\USER\\AppData\\Local\\Programs\\Python\\Python39\\lib\\site-packages\\tensorflow\\python\\eager\\execute.py\u001b[0m in \u001b[0;36mquick_execute\u001b[1;34m(op_name, num_outputs, inputs, attrs, ctx, name)\u001b[0m\n\u001b[0;32m     52\u001b[0m   \u001b[1;32mtry\u001b[0m\u001b[1;33m:\u001b[0m\u001b[1;33m\u001b[0m\u001b[1;33m\u001b[0m\u001b[0m\n\u001b[0;32m     53\u001b[0m     \u001b[0mctx\u001b[0m\u001b[1;33m.\u001b[0m\u001b[0mensure_initialized\u001b[0m\u001b[1;33m(\u001b[0m\u001b[1;33m)\u001b[0m\u001b[1;33m\u001b[0m\u001b[1;33m\u001b[0m\u001b[0m\n\u001b[1;32m---> 54\u001b[1;33m     tensors = pywrap_tfe.TFE_Py_Execute(ctx._handle, device_name, op_name,\n\u001b[0m\u001b[0;32m     55\u001b[0m                                         inputs, attrs, num_outputs)\n\u001b[0;32m     56\u001b[0m   \u001b[1;32mexcept\u001b[0m \u001b[0mcore\u001b[0m\u001b[1;33m.\u001b[0m\u001b[0m_NotOkStatusException\u001b[0m \u001b[1;32mas\u001b[0m \u001b[0me\u001b[0m\u001b[1;33m:\u001b[0m\u001b[1;33m\u001b[0m\u001b[1;33m\u001b[0m\u001b[0m\n",
      "\u001b[1;31mInvalidArgumentError\u001b[0m: indices[2] = 3 is not in [0, 2) [Op:GatherV2]"
     ]
    }
   ],
   "source": [
    "#Extract the first, second, and fourth images from tensor_i ([2,2,2,3]).\n",
    "indices = [0,1,3]\n",
    "tf.gather(tensor_i,axis=0,indices=indices)"
   ]
  },
  {
   "cell_type": "markdown",
   "id": "6081f46b",
   "metadata": {},
   "source": [
    "### B. tf.gather_nd"
   ]
  },
  {
   "cell_type": "code",
   "execution_count": 18,
   "id": "6a31b96f",
   "metadata": {},
   "outputs": [
    {
     "data": {
      "text/plain": [
       "<tf.Tensor: shape=(2,), dtype=float32, numpy=array([-1.5424579, -1.016106 ], dtype=float32)>"
      ]
     },
     "execution_count": 18,
     "metadata": {},
     "output_type": "execute_result"
    }
   ],
   "source": [
    "# Mengambil nilai piksel [,] dari dimensi pertama gamabr pertama dan piksek [,] dari dimensi pertama dan gamabr kedua pada tensor_i\n",
    "indices = [[0,1,1,0],[1,2,2,0]]\n",
    "tf.gather_nd(tensor_i,indices=indices)"
   ]
  },
  {
   "cell_type": "markdown",
   "id": "0555cf37",
   "metadata": {},
   "source": [
    "# Tensor Dimension Modification"
   ]
  },
  {
   "cell_type": "markdown",
   "id": "17c3ed49",
   "metadata": {},
   "source": [
    "## 1. Dimension Display"
   ]
  },
  {
   "cell_type": "code",
   "execution_count": 19,
   "id": "6af3ee44",
   "metadata": {},
   "outputs": [],
   "source": [
    "# Pembuatan Tensor\n",
    "const_d_1 = tf.constant([[1, 2, 3, 4]],shape=[2,2], dtype=tf.float32)\n"
   ]
  },
  {
   "cell_type": "code",
   "execution_count": 20,
   "id": "ae0e0fa3",
   "metadata": {},
   "outputs": [
    {
     "data": {
      "text/plain": [
       "TensorShape([2, 2])"
      ]
     },
     "execution_count": 20,
     "metadata": {},
     "output_type": "execute_result"
    }
   ],
   "source": [
    "#Common display dimension\n",
    "const_d_1.shape"
   ]
  },
  {
   "cell_type": "code",
   "execution_count": 21,
   "id": "066ed1c0",
   "metadata": {},
   "outputs": [
    {
     "data": {
      "text/plain": [
       "TensorShape([2, 2])"
      ]
     },
     "execution_count": 21,
     "metadata": {},
     "output_type": "execute_result"
    }
   ],
   "source": [
    "#Common display dimension\n",
    "const_d_1.get_shape()"
   ]
  },
  {
   "cell_type": "code",
   "execution_count": 22,
   "id": "8f451d36",
   "metadata": {},
   "outputs": [
    {
     "data": {
      "text/plain": [
       "<tf.Tensor: shape=(2,), dtype=int32, numpy=array([2, 2])>"
      ]
     },
     "execution_count": 22,
     "metadata": {},
     "output_type": "execute_result"
    }
   ],
   "source": [
    "#Common display dimension\n",
    "tf.shape(const_d_1)"
   ]
  },
  {
   "cell_type": "markdown",
   "id": "af6ac79a",
   "metadata": {},
   "source": [
    "## 2. Dimension Reshaping"
   ]
  },
  {
   "cell_type": "code",
   "execution_count": 23,
   "id": "07835fab",
   "metadata": {},
   "outputs": [
    {
     "data": {
      "text/plain": [
       "<tf.Tensor: shape=(2, 3), dtype=int32, numpy=\n",
       "array([[1, 2, 3],\n",
       "       [4, 5, 6]])>"
      ]
     },
     "execution_count": 23,
     "metadata": {},
     "output_type": "execute_result"
    }
   ],
   "source": [
    "#Before Reshaping\n",
    "reshape_1 = tf.constant([[1,2,3],[4,5,6]])\n",
    "reshape_1"
   ]
  },
  {
   "cell_type": "code",
   "execution_count": 24,
   "id": "628ea979",
   "metadata": {},
   "outputs": [
    {
     "data": {
      "text/plain": [
       "<tf.Tensor: shape=(3, 2), dtype=int32, numpy=\n",
       "array([[1, 2],\n",
       "       [3, 4],\n",
       "       [5, 6]])>"
      ]
     },
     "execution_count": 24,
     "metadata": {},
     "output_type": "execute_result"
    }
   ],
   "source": [
    "#After Reshaping\n",
    "tf.reshape(reshape_1, (3,2))"
   ]
  },
  {
   "cell_type": "markdown",
   "id": "42478bfa",
   "metadata": {},
   "source": [
    "## 3. Dimension Expansion"
   ]
  },
  {
   "cell_type": "code",
   "execution_count": 25,
   "id": "5112e069",
   "metadata": {},
   "outputs": [
    {
     "name": "stdout",
     "output_type": "stream",
     "text": [
      "size of the original data: (100, 100, 3)\n"
     ]
    }
   ],
   "source": [
    "#Generate a 100 x 100 x 3 tensor to represent a 100 x 100 three-channel color image.\n",
    "expand_sample_1 = tf.random.normal([100,100,3], seed=1)\n",
    "\n",
    "print(\"size of the original data:\",expand_sample_1.shape)"
   ]
  },
  {
   "cell_type": "code",
   "execution_count": 26,
   "id": "2e8ece2e",
   "metadata": {},
   "outputs": [
    {
     "name": "stdout",
     "output_type": "stream",
     "text": [
      "add a dimension before the first dimension (axis = 0):  (1, 100, 100, 3)\n"
     ]
    }
   ],
   "source": [
    "print(\"add a dimension before the first dimension (axis = 0): \",tf.expand_dims(expand_sample_1, axis=0).shape)"
   ]
  },
  {
   "cell_type": "code",
   "execution_count": 27,
   "id": "1f158f52",
   "metadata": {},
   "outputs": [
    {
     "name": "stdout",
     "output_type": "stream",
     "text": [
      "add a dimension before the second dimension (axis = 1):  (100, 1, 100, 3)\n"
     ]
    }
   ],
   "source": [
    "print(\"add a dimension before the second dimension (axis = 1): \",tf.expand_dims(expand_sample_1, axis=1).shape)"
   ]
  },
  {
   "cell_type": "code",
   "execution_count": 28,
   "id": "666db0f1",
   "metadata": {},
   "outputs": [
    {
     "name": "stdout",
     "output_type": "stream",
     "text": [
      "add a dimension after the last dimension (axis = –1):  (100, 100, 3, 1)\n"
     ]
    }
   ],
   "source": [
    "print(\"add a dimension after the last dimension (axis = –1): \",tf.expand_dims(expand_sample_1, axis=-1).shape)"
   ]
  },
  {
   "cell_type": "markdown",
   "id": "8596fe99",
   "metadata": {},
   "source": [
    "## 4. Dimension Squeezing"
   ]
  },
  {
   "cell_type": "code",
   "execution_count": 29,
   "id": "dbfb56db",
   "metadata": {},
   "outputs": [
    {
     "name": "stdout",
     "output_type": "stream",
     "text": [
      "size of the original data: (1, 100, 100, 3)\n"
     ]
    }
   ],
   "source": [
    "#Generate a 100 x 100 x 3 tensor to represent a 100 x 100 three-channel color image.\n",
    "squeeze_sample_1 = tf.random.normal([1,100,100,3])\n",
    "\n",
    "print(\"size of the original data:\",squeeze_sample_1.shape)"
   ]
  },
  {
   "cell_type": "code",
   "execution_count": 30,
   "id": "2f231580",
   "metadata": {},
   "outputs": [
    {
     "name": "stdout",
     "output_type": "stream",
     "text": [
      "data size after dimension squeezing: (100, 100, 3)\n"
     ]
    }
   ],
   "source": [
    "squeezed_sample_1 = tf.squeeze(squeeze_sample_1)\n",
    "\n",
    "print(\"data size after dimension squeezing:\",squeezed_sample_1.shape)"
   ]
  },
  {
   "cell_type": "markdown",
   "id": "c729da61",
   "metadata": {},
   "source": [
    "## 5. Transpose"
   ]
  },
  {
   "cell_type": "code",
   "execution_count": 31,
   "id": "a4939fae",
   "metadata": {},
   "outputs": [
    {
     "name": "stdout",
     "output_type": "stream",
     "text": [
      "size of the original data: (2, 3)\n"
     ]
    }
   ],
   "source": [
    "#Input the tensor to be transposed, and call tf.transpose.\n",
    "trans_sample_1 = tf.constant([1,2,3,4,5,6],shape=[2,3])\n",
    "\n",
    "print(\"size of the original data:\",trans_sample_1.shape)"
   ]
  },
  {
   "cell_type": "code",
   "execution_count": 32,
   "id": "cb09f72a",
   "metadata": {},
   "outputs": [
    {
     "name": "stdout",
     "output_type": "stream",
     "text": [
      "size of transposed data: (3, 2)\n"
     ]
    }
   ],
   "source": [
    "transposed_sample_1 = tf.transpose(trans_sample_1)\n",
    "\n",
    "print(\"size of transposed data:\",transposed_sample_1.shape)"
   ]
  },
  {
   "cell_type": "markdown",
   "id": "2c387807",
   "metadata": {},
   "source": [
    "## 6. Broadcast"
   ]
  },
  {
   "cell_type": "code",
   "execution_count": 33,
   "id": "5a6e6dc9",
   "metadata": {},
   "outputs": [
    {
     "name": "stdout",
     "output_type": "stream",
     "text": [
      "original data: tf.Tensor([1 2 3 4 5 6], shape=(6,), dtype=int32)\n"
     ]
    }
   ],
   "source": [
    "broadcast_sample_1 = tf.constant([1,2,3,4,5,6])\n",
    "\n",
    "print(\"original data:\",broadcast_sample_1)"
   ]
  },
  {
   "cell_type": "code",
   "execution_count": 34,
   "id": "6a3d8106",
   "metadata": {},
   "outputs": [
    {
     "name": "stdout",
     "output_type": "stream",
     "text": [
      "broadcasted data: tf.Tensor(\n",
      "[[1 2 3 4 5 6]\n",
      " [1 2 3 4 5 6]\n",
      " [1 2 3 4 5 6]\n",
      " [1 2 3 4 5 6]], shape=(4, 6), dtype=int32)\n"
     ]
    }
   ],
   "source": [
    "broadcasted_sample_1 = tf.broadcast_to(broadcast_sample_1,shape=[4,6])\n",
    "\n",
    "print(\"broadcasted data:\",broadcasted_sample_1)"
   ]
  },
  {
   "cell_type": "markdown",
   "id": "a7682773",
   "metadata": {},
   "source": [
    "# Arithmetic Operations on Tensors"
   ]
  },
  {
   "cell_type": "markdown",
   "id": "8ede1361",
   "metadata": {},
   "source": [
    "## 1. Arithmetic Operator"
   ]
  },
  {
   "cell_type": "code",
   "execution_count": 35,
   "id": "571459b7",
   "metadata": {},
   "outputs": [
    {
     "name": "stdout",
     "output_type": "stream",
     "text": [
      "Hasil dari Penjumlahan adalah:\n",
      " tf.Tensor(\n",
      "[[ 4 11]\n",
      " [ 6 17]], shape=(2, 2), dtype=int32)\n"
     ]
    }
   ],
   "source": [
    "a = tf.constant([[3, 5], [4, 8]])\n",
    "b = tf.constant([[1, 6], [2, 9]])\n",
    "\n",
    "print(\"Hasil dari Penjumlahan adalah:\\n\",tf.add(a, b))"
   ]
  },
  {
   "cell_type": "markdown",
   "id": "f6859dc6",
   "metadata": {},
   "source": [
    "## 2. Matrix Multiplication"
   ]
  },
  {
   "cell_type": "code",
   "execution_count": 36,
   "id": "4a0ca31c",
   "metadata": {},
   "outputs": [
    {
     "data": {
      "text/plain": [
       "<tf.Tensor: shape=(2, 2), dtype=int32, numpy=\n",
       "array([[13, 63],\n",
       "       [20, 96]])>"
      ]
     },
     "execution_count": 36,
     "metadata": {},
     "output_type": "execute_result"
    }
   ],
   "source": [
    "tf.matmul(a,b)"
   ]
  },
  {
   "cell_type": "markdown",
   "id": "f79e141b",
   "metadata": {},
   "source": [
    "## 3. Tensor Statistics Collection"
   ]
  },
  {
   "cell_type": "code",
   "execution_count": 37,
   "id": "b8a05a89",
   "metadata": {},
   "outputs": [
    {
     "name": "stdout",
     "output_type": "stream",
     "text": [
      "input tensor: [[1 3 2]\n",
      " [2 5 8]\n",
      " [7 5 9]]\n"
     ]
    }
   ],
   "source": [
    "argmax_sample_1 = tf.constant([[1,3,2],[2,5,8],[7,5,9]])\n",
    "print(\"input tensor:\",argmax_sample_1.numpy())"
   ]
  },
  {
   "cell_type": "code",
   "execution_count": 38,
   "id": "cd6b90c2",
   "metadata": {},
   "outputs": [
    {
     "name": "stdout",
     "output_type": "stream",
     "text": [
      "locate the maximum value by column: [2 1 2]\n"
     ]
    }
   ],
   "source": [
    "max_sample_1 = tf.argmax(argmax_sample_1, axis=0)\n",
    "print(\"locate the maximum value by column:\",max_sample_1.numpy())"
   ]
  },
  {
   "cell_type": "code",
   "execution_count": 39,
   "id": "95b9203e",
   "metadata": {},
   "outputs": [
    {
     "name": "stdout",
     "output_type": "stream",
     "text": [
      "locate the maximum value by row: [1 2 2]\n"
     ]
    }
   ],
   "source": [
    "max_sample_2 = tf.argmax(argmax_sample_1, axis=1)\n",
    "print(\"locate the maximum value by row:\",max_sample_2.numpy())"
   ]
  },
  {
   "cell_type": "markdown",
   "id": "c97a2969",
   "metadata": {},
   "source": [
    "# Dimension-based Arithmetic Operations\n",
    "\n",
    "##### input_tensor: Tensor yang akan dikurangi. Harus memiliki tipe numeric \n",
    "##### axis: Dimensi yang akan dikurangi\n",
    "##### keepdims: jika bernilai True, mempertahankan dimensi yang dikurangi dengan panjang 1"
   ]
  },
  {
   "cell_type": "code",
   "execution_count": 40,
   "id": "7abccb28",
   "metadata": {},
   "outputs": [
    {
     "name": "stdout",
     "output_type": "stream",
     "text": [
      "original data [[1 2 3]\n",
      " [4 5 6]]\n"
     ]
    }
   ],
   "source": [
    "reduce_sample_1 = tf.constant([1,2,3,4,5,6],shape=[2,3])\n",
    "print(\"original data\",reduce_sample_1.numpy())"
   ]
  },
  {
   "cell_type": "code",
   "execution_count": 41,
   "id": "0e99ef74",
   "metadata": {},
   "outputs": [
    {
     "name": "stdout",
     "output_type": "stream",
     "text": [
      "calculate the sum of all elements in the tensor (axis = None):  21\n"
     ]
    }
   ],
   "source": [
    "print(\"calculate the sum of all elements in the tensor (axis = None): \",tf.reduce_sum(reduce_sample_1,axis=None).numpy())"
   ]
  },
  {
   "cell_type": "code",
   "execution_count": 42,
   "id": "83d65280",
   "metadata": {},
   "outputs": [
    {
     "name": "stdout",
     "output_type": "stream",
     "text": [
      "calculate the sum of elements in each column by column (axis = 0):  [5 7 9]\n"
     ]
    }
   ],
   "source": [
    "print(\"calculate the sum of elements in each column by column (axis = 0): \",tf.reduce_sum(reduce_sample_1,axis=0).numpy())"
   ]
  },
  {
   "cell_type": "code",
   "execution_count": 43,
   "id": "c58d774e",
   "metadata": {},
   "outputs": [
    {
     "name": "stdout",
     "output_type": "stream",
     "text": [
      "calculate the sum of elements in each column by row (axis = 1):  [ 6 15]\n"
     ]
    }
   ],
   "source": [
    "print(\"calculate the sum of elements in each column by row (axis = 1): \",tf.reduce_sum(reduce_sample_1,axis=1).numpy())"
   ]
  },
  {
   "cell_type": "markdown",
   "id": "968066c8",
   "metadata": {},
   "source": [
    "# Tensor Concatenation and SPlitting"
   ]
  },
  {
   "cell_type": "markdown",
   "id": "3445b6b9",
   "metadata": {},
   "source": [
    "## 1. Tensor Concatenation"
   ]
  },
  {
   "cell_type": "markdown",
   "id": "196f0cf2",
   "metadata": {},
   "source": [
    "### A. tf.contact()"
   ]
  },
  {
   "cell_type": "code",
   "execution_count": 62,
   "id": "124765f6",
   "metadata": {},
   "outputs": [
    {
     "name": "stdout",
     "output_type": "stream",
     "text": [
      "sizes of the original data: (4, 100, 100, 3) (40, 100, 100, 3)\n"
     ]
    }
   ],
   "source": [
    "concat_sample_1 = tf.random.normal([4,100,100,3])\n",
    "concat_sample_2 = tf.random.normal([40,100,100,3])\n",
    "\n",
    "print(\"sizes of the original data:\",concat_sample_1.shape,concat_sample_2.shape)"
   ]
  },
  {
   "cell_type": "code",
   "execution_count": 63,
   "id": "231ec731",
   "metadata": {},
   "outputs": [
    {
     "name": "stdout",
     "output_type": "stream",
     "text": [
      "size of the concatenated data: (44, 100, 100, 3)\n"
     ]
    }
   ],
   "source": [
    "concated_sample_1 = tf.concat([concat_sample_1,concat_sample_2],axis=0)\n",
    "print(\"size of the concatenated data:\",concated_sample_1.shape)"
   ]
  },
  {
   "cell_type": "markdown",
   "id": "293a1279",
   "metadata": {},
   "source": [
    "### B. tf.stack()"
   ]
  },
  {
   "cell_type": "code",
   "execution_count": 46,
   "id": "e45ba6dc",
   "metadata": {},
   "outputs": [
    {
     "name": "stdout",
     "output_type": "stream",
     "text": [
      "sizes of the original data:  (100, 100, 3) (100, 100, 3)\n"
     ]
    }
   ],
   "source": [
    "stack_sample_1 = tf.random.normal([100,100,3])\n",
    "stack_sample_2 = tf.random.normal([100,100,3])\n",
    "\n",
    "print(\"sizes of the original data: \",stack_sample_1.shape, stack_sample_2.shape)"
   ]
  },
  {
   "cell_type": "code",
   "execution_count": 47,
   "id": "0729a345",
   "metadata": {},
   "outputs": [
    {
     "name": "stdout",
     "output_type": "stream",
     "text": [
      "size of the concatenated data: (2, 100, 100, 3)\n"
     ]
    }
   ],
   "source": [
    "#Dimensions increase after the concatenation. If axis is set to 0, a dimension is added before the first dimension.\n",
    "stacked_sample_1 = tf.stack([stack_sample_1, stack_sample_2],axis=0)\n",
    "print(\"size of the concatenated data:\",stacked_sample_1.shape)"
   ]
  },
  {
   "cell_type": "markdown",
   "id": "6065bde8",
   "metadata": {},
   "source": [
    "## 2. Tensor Splitting"
   ]
  },
  {
   "cell_type": "markdown",
   "id": "ba0af1b2",
   "metadata": {},
   "source": [
    "### A. tf.unstack()"
   ]
  },
  {
   "cell_type": "code",
   "execution_count": 64,
   "id": "6ba44fa3",
   "metadata": {},
   "outputs": [
    {
     "data": {
      "text/plain": [
       "<tf.Tensor: shape=(2, 100, 100, 3), dtype=float32, numpy=\n",
       "array([[[[ 1.5067011 ,  1.2816238 , -1.4268799 ],\n",
       "         [-1.2571189 ,  2.1674824 , -1.6251478 ],\n",
       "         [ 0.52987385, -0.49626285,  1.3429546 ],\n",
       "         ...,\n",
       "         [ 0.5615166 ,  0.50560397, -0.1383535 ],\n",
       "         [ 0.3788111 ,  0.7402054 ,  0.19789618],\n",
       "         [-0.29981023,  0.17557143, -0.17000885]],\n",
       "\n",
       "        [[ 0.24297644,  1.7907987 , -0.8376696 ],\n",
       "         [ 0.10100961, -0.40576032,  0.96147454],\n",
       "         [-0.19724175, -2.564001  ,  0.05865294],\n",
       "         ...,\n",
       "         [-2.3683643 ,  0.45723787,  0.39071387],\n",
       "         [ 1.0510348 , -1.3000565 , -1.763876  ],\n",
       "         [ 0.30565348,  0.42300174,  0.8311379 ]],\n",
       "\n",
       "        [[-1.4235442 ,  0.92886174,  1.507868  ],\n",
       "         [-0.29531384, -0.05153668,  0.07721885],\n",
       "         [ 0.06416343, -0.32228103, -0.9540612 ],\n",
       "         ...,\n",
       "         [-0.38686118, -0.09961329,  0.3583177 ],\n",
       "         [-0.5607858 , -0.3439029 ,  1.7155246 ],\n",
       "         [ 2.0804176 , -0.6421268 , -0.7249232 ]],\n",
       "\n",
       "        ...,\n",
       "\n",
       "        [[-1.9377956 , -0.27675655,  0.18811603],\n",
       "         [ 2.7536585 , -0.25040585, -0.5657848 ],\n",
       "         [-1.3036762 , -0.73575306, -1.1360042 ],\n",
       "         ...,\n",
       "         [ 0.45435914,  0.15856285,  2.2852087 ],\n",
       "         [ 1.5165638 ,  1.3371663 ,  0.94039506],\n",
       "         [ 1.6066573 , -0.74873763, -0.43876356]],\n",
       "\n",
       "        [[ 0.39508522, -0.7496737 ,  0.5814251 ],\n",
       "         [ 0.03678035,  0.39799544, -0.084203  ],\n",
       "         [ 2.1028183 , -1.740675  , -0.65781695],\n",
       "         ...,\n",
       "         [ 0.2295362 ,  0.39504638,  2.1378212 ],\n",
       "         [ 0.45666215,  0.4680122 , -0.97671545],\n",
       "         [-0.05039143,  0.9907577 ,  0.01151773]],\n",
       "\n",
       "        [[ 0.7946605 , -1.1326923 , -0.73924446],\n",
       "         [-2.3914542 ,  0.4956682 , -0.52364373],\n",
       "         [-0.37958428, -1.013015  , -1.2179642 ],\n",
       "         ...,\n",
       "         [ 0.840242  , -1.2622926 , -0.08197503],\n",
       "         [ 1.1071846 , -1.0596209 , -1.0630727 ],\n",
       "         [ 0.64442205, -1.3514434 , -0.02458726]]],\n",
       "\n",
       "\n",
       "       [[[ 0.2857191 ,  0.66077584, -0.76433146],\n",
       "         [ 0.6351647 ,  0.40393227, -1.2809844 ],\n",
       "         [-0.34008688,  1.5691214 , -0.07343812],\n",
       "         ...,\n",
       "         [-0.71671784, -1.4904954 ,  0.0171086 ],\n",
       "         [ 0.06729607, -1.5258673 ,  0.8273605 ],\n",
       "         [-0.56507766,  1.8376375 ,  0.19853619]],\n",
       "\n",
       "        [[-1.9845898 ,  0.43846053,  0.2532224 ],\n",
       "         [-0.31442237,  1.620826  , -0.8860302 ],\n",
       "         [ 1.1863977 , -0.34530258,  0.47669762],\n",
       "         ...,\n",
       "         [ 0.29619956, -0.20235458,  1.0070448 ],\n",
       "         [-0.1466958 ,  0.09206238, -2.1387248 ],\n",
       "         [-0.2993296 , -0.65102816, -0.325399  ]],\n",
       "\n",
       "        [[ 1.4841623 ,  1.2930417 ,  0.9987304 ],\n",
       "         [ 0.6915332 ,  0.9453309 ,  1.1267842 ],\n",
       "         [ 0.08424756, -0.09866613, -0.31395742],\n",
       "         ...,\n",
       "         [ 0.80396104, -0.8303348 ,  0.73573303],\n",
       "         [-0.5904787 , -1.4784596 ,  0.5181089 ],\n",
       "         [-0.14242418,  0.6291176 ,  1.7210054 ]],\n",
       "\n",
       "        ...,\n",
       "\n",
       "        [[ 0.8483332 , -1.6008624 ,  0.781103  ],\n",
       "         [-0.20224445,  0.79950786,  0.17595468],\n",
       "         [-0.18210766, -1.3801345 , -1.2412295 ],\n",
       "         ...,\n",
       "         [-0.19737254, -1.7643794 , -0.43736684],\n",
       "         [-0.37441915,  0.01117599, -0.54664004],\n",
       "         [-0.23412386, -0.13015936,  0.281744  ]],\n",
       "\n",
       "        [[ 1.4615543 , -0.4701728 ,  1.269391  ],\n",
       "         [-0.70817363, -1.5161358 , -1.5246909 ],\n",
       "         [ 1.3991959 , -0.36693466,  0.47074175],\n",
       "         ...,\n",
       "         [ 1.2282939 ,  0.06371336,  0.84069216],\n",
       "         [ 1.0479572 , -1.2029488 ,  1.2730901 ],\n",
       "         [-0.35846737,  0.33340243,  0.6014877 ]],\n",
       "\n",
       "        [[ 0.765089  , -0.26134944, -0.7750065 ],\n",
       "         [ 0.67433155, -0.9190827 , -0.44623536],\n",
       "         [-0.25459337,  1.7140286 , -0.90443456],\n",
       "         ...,\n",
       "         [ 0.84063154,  1.0656794 ,  0.82705814],\n",
       "         [-0.1639296 , -0.2534334 , -0.73069394],\n",
       "         [-0.5848167 , -0.73385173, -0.61344546]]]], dtype=float32)>"
      ]
     },
     "execution_count": 64,
     "metadata": {},
     "output_type": "execute_result"
    }
   ],
   "source": [
    "stacked_sample_1"
   ]
  },
  {
   "cell_type": "code",
   "execution_count": 48,
   "id": "5f3eb764",
   "metadata": {},
   "outputs": [
    {
     "data": {
      "text/plain": [
       "[<tf.Tensor: shape=(100, 100, 3), dtype=float32, numpy=\n",
       " array([[[ 1.5067011 ,  1.2816238 , -1.4268799 ],\n",
       "         [-1.2571189 ,  2.1674824 , -1.6251478 ],\n",
       "         [ 0.52987385, -0.49626285,  1.3429546 ],\n",
       "         ...,\n",
       "         [ 0.5615166 ,  0.50560397, -0.1383535 ],\n",
       "         [ 0.3788111 ,  0.7402054 ,  0.19789618],\n",
       "         [-0.29981023,  0.17557143, -0.17000885]],\n",
       " \n",
       "        [[ 0.24297644,  1.7907987 , -0.8376696 ],\n",
       "         [ 0.10100961, -0.40576032,  0.96147454],\n",
       "         [-0.19724175, -2.564001  ,  0.05865294],\n",
       "         ...,\n",
       "         [-2.3683643 ,  0.45723787,  0.39071387],\n",
       "         [ 1.0510348 , -1.3000565 , -1.763876  ],\n",
       "         [ 0.30565348,  0.42300174,  0.8311379 ]],\n",
       " \n",
       "        [[-1.4235442 ,  0.92886174,  1.507868  ],\n",
       "         [-0.29531384, -0.05153668,  0.07721885],\n",
       "         [ 0.06416343, -0.32228103, -0.9540612 ],\n",
       "         ...,\n",
       "         [-0.38686118, -0.09961329,  0.3583177 ],\n",
       "         [-0.5607858 , -0.3439029 ,  1.7155246 ],\n",
       "         [ 2.0804176 , -0.6421268 , -0.7249232 ]],\n",
       " \n",
       "        ...,\n",
       " \n",
       "        [[-1.9377956 , -0.27675655,  0.18811603],\n",
       "         [ 2.7536585 , -0.25040585, -0.5657848 ],\n",
       "         [-1.3036762 , -0.73575306, -1.1360042 ],\n",
       "         ...,\n",
       "         [ 0.45435914,  0.15856285,  2.2852087 ],\n",
       "         [ 1.5165638 ,  1.3371663 ,  0.94039506],\n",
       "         [ 1.6066573 , -0.74873763, -0.43876356]],\n",
       " \n",
       "        [[ 0.39508522, -0.7496737 ,  0.5814251 ],\n",
       "         [ 0.03678035,  0.39799544, -0.084203  ],\n",
       "         [ 2.1028183 , -1.740675  , -0.65781695],\n",
       "         ...,\n",
       "         [ 0.2295362 ,  0.39504638,  2.1378212 ],\n",
       "         [ 0.45666215,  0.4680122 , -0.97671545],\n",
       "         [-0.05039143,  0.9907577 ,  0.01151773]],\n",
       " \n",
       "        [[ 0.7946605 , -1.1326923 , -0.73924446],\n",
       "         [-2.3914542 ,  0.4956682 , -0.52364373],\n",
       "         [-0.37958428, -1.013015  , -1.2179642 ],\n",
       "         ...,\n",
       "         [ 0.840242  , -1.2622926 , -0.08197503],\n",
       "         [ 1.1071846 , -1.0596209 , -1.0630727 ],\n",
       "         [ 0.64442205, -1.3514434 , -0.02458726]]], dtype=float32)>,\n",
       " <tf.Tensor: shape=(100, 100, 3), dtype=float32, numpy=\n",
       " array([[[ 0.2857191 ,  0.66077584, -0.76433146],\n",
       "         [ 0.6351647 ,  0.40393227, -1.2809844 ],\n",
       "         [-0.34008688,  1.5691214 , -0.07343812],\n",
       "         ...,\n",
       "         [-0.71671784, -1.4904954 ,  0.0171086 ],\n",
       "         [ 0.06729607, -1.5258673 ,  0.8273605 ],\n",
       "         [-0.56507766,  1.8376375 ,  0.19853619]],\n",
       " \n",
       "        [[-1.9845898 ,  0.43846053,  0.2532224 ],\n",
       "         [-0.31442237,  1.620826  , -0.8860302 ],\n",
       "         [ 1.1863977 , -0.34530258,  0.47669762],\n",
       "         ...,\n",
       "         [ 0.29619956, -0.20235458,  1.0070448 ],\n",
       "         [-0.1466958 ,  0.09206238, -2.1387248 ],\n",
       "         [-0.2993296 , -0.65102816, -0.325399  ]],\n",
       " \n",
       "        [[ 1.4841623 ,  1.2930417 ,  0.9987304 ],\n",
       "         [ 0.6915332 ,  0.9453309 ,  1.1267842 ],\n",
       "         [ 0.08424756, -0.09866613, -0.31395742],\n",
       "         ...,\n",
       "         [ 0.80396104, -0.8303348 ,  0.73573303],\n",
       "         [-0.5904787 , -1.4784596 ,  0.5181089 ],\n",
       "         [-0.14242418,  0.6291176 ,  1.7210054 ]],\n",
       " \n",
       "        ...,\n",
       " \n",
       "        [[ 0.8483332 , -1.6008624 ,  0.781103  ],\n",
       "         [-0.20224445,  0.79950786,  0.17595468],\n",
       "         [-0.18210766, -1.3801345 , -1.2412295 ],\n",
       "         ...,\n",
       "         [-0.19737254, -1.7643794 , -0.43736684],\n",
       "         [-0.37441915,  0.01117599, -0.54664004],\n",
       "         [-0.23412386, -0.13015936,  0.281744  ]],\n",
       " \n",
       "        [[ 1.4615543 , -0.4701728 ,  1.269391  ],\n",
       "         [-0.70817363, -1.5161358 , -1.5246909 ],\n",
       "         [ 1.3991959 , -0.36693466,  0.47074175],\n",
       "         ...,\n",
       "         [ 1.2282939 ,  0.06371336,  0.84069216],\n",
       "         [ 1.0479572 , -1.2029488 ,  1.2730901 ],\n",
       "         [-0.35846737,  0.33340243,  0.6014877 ]],\n",
       " \n",
       "        [[ 0.765089  , -0.26134944, -0.7750065 ],\n",
       "         [ 0.67433155, -0.9190827 , -0.44623536],\n",
       "         [-0.25459337,  1.7140286 , -0.90443456],\n",
       "         ...,\n",
       "         [ 0.84063154,  1.0656794 ,  0.82705814],\n",
       "         [-0.1639296 , -0.2534334 , -0.73069394],\n",
       "         [-0.5848167 , -0.73385173, -0.61344546]]], dtype=float32)>]"
      ]
     },
     "execution_count": 48,
     "metadata": {},
     "output_type": "execute_result"
    }
   ],
   "source": [
    "#Split data based on the first dimension and output the split data in a list.\n",
    "tf.unstack(stacked_sample_1)"
   ]
  },
  {
   "cell_type": "markdown",
   "id": "7f868371",
   "metadata": {},
   "source": [
    "### B. tf.split()\n",
    "\n",
    "tf.split(value, num_or_size_splits, axis=0, num=None, name='split'):\n",
    "    - value: The Tensor to split.\n",
    "    - num_or_size_splits:\tEither an integer indicating the number of splits along axis or a 1-D integer Tensor or Python list containing the sizes of each output tensor along axis. If a scalar, then it must evenly divide value.shape[axis]; otherwise the sum of sizes along the split axis must match that of the value.\n",
    "    - axis: An integer or scalar int32 Tensor. The dimension along which to split. Must be in the range [-rank(value), rank(value)). Defaults to 0.\n",
    "    - num: Optional, used to specify the number of outputs when it cannot be inferred from the shape of size_splits.\n",
    "    - name:\tA name for the operation (optional).\n",
    "tf.split() splits a tensor in either of the following ways:\n",
    "    - If the value of num_or_size_splits is an integer, the tensor is evenly split into sub tensors in the specified dimension (axis = D).\n",
    "    - If the value of num_or_size_splits is a vector, the tensor is split into sub tensors based on the element value of the vector in the specified dimension (axis = D).\n"
   ]
  },
  {
   "cell_type": "code",
   "execution_count": 49,
   "id": "7e9ed51d",
   "metadata": {},
   "outputs": [
    {
     "name": "stdout",
     "output_type": "stream",
     "text": [
      "size of the original data: (10, 100, 100, 3)\n"
     ]
    }
   ],
   "source": [
    "import numpy as np\n",
    "split_sample_1 = tf.random.normal([10,100,100,3])\n",
    "print(\"size of the original data:\",split_sample_1.shape)"
   ]
  },
  {
   "cell_type": "code",
   "execution_count": 50,
   "id": "2aed5746",
   "metadata": {},
   "outputs": [
    {
     "name": "stdout",
     "output_type": "stream",
     "text": [
      "size of the split data when m_or_size_splits is set to 10:  (5, 2, 100, 100, 3)\n"
     ]
    }
   ],
   "source": [
    "splited_sample_1 = tf.split(split_sample_1, num_or_size_splits=5,axis=0)\n",
    "print(\"size of the split data when m_or_size_splits is set to 10: \",np.shape(splited_sample_1))"
   ]
  },
  {
   "cell_type": "code",
   "execution_count": 51,
   "id": "dd6fb433",
   "metadata": {},
   "outputs": [
    {
     "name": "stdout",
     "output_type": "stream",
     "text": [
      "sizes of the split data when num_or_size_splits is set to [3,5,2]: (3, 100, 100, 3) (5, 100, 100, 3) (2, 100, 100, 3)\n"
     ]
    }
   ],
   "source": [
    "splited_sample_2 = tf.split(split_sample_1, num_or_size_splits=[3,5,2],axis=0)\n",
    "print(\"sizes of the split data when num_or_size_splits is set to [3,5,2]:\",\n",
    "np.shape(splited_sample_2[0]),\n",
    "np.shape(splited_sample_2[1]),\n",
    "np.shape(splited_sample_2[2]))"
   ]
  },
  {
   "cell_type": "markdown",
   "id": "4e7641a7",
   "metadata": {},
   "source": [
    "# Tensor Sorting Methods"
   ]
  },
  {
   "cell_type": "markdown",
   "id": "0f13bd68",
   "metadata": {},
   "source": [
    "## 1. tf.sort() & tf.argsort()"
   ]
  },
  {
   "cell_type": "code",
   "execution_count": 52,
   "id": "04c69e9f",
   "metadata": {},
   "outputs": [
    {
     "name": "stdout",
     "output_type": "stream",
     "text": [
      "input tensor: [7 2 8 5 1 0 6 4 3 9]\n"
     ]
    }
   ],
   "source": [
    "sort_sample_1 = tf.random.shuffle(tf.range(10))\n",
    "print(\"input tensor:\",sort_sample_1.numpy())"
   ]
  },
  {
   "cell_type": "code",
   "execution_count": 53,
   "id": "9165134f",
   "metadata": {},
   "outputs": [
    {
     "name": "stdout",
     "output_type": "stream",
     "text": [
      "tensor sorted in ascending order: [0 1 2 3 4 5 6 7 8 9]\n"
     ]
    }
   ],
   "source": [
    "sorted_sample_1 = tf.sort(sort_sample_1, direction=\"ASCENDING\")\n",
    "print(\"tensor sorted in ascending order:\",sorted_sample_1.numpy())"
   ]
  },
  {
   "cell_type": "code",
   "execution_count": 54,
   "id": "5598ff1c",
   "metadata": {},
   "outputs": [
    {
     "name": "stdout",
     "output_type": "stream",
     "text": [
      "indexes of elements in ascending order: [5 4 1 8 7 3 6 0 2 9]\n"
     ]
    }
   ],
   "source": [
    "sorted_sample_2 = tf.argsort(sort_sample_1,direction=\"ASCENDING\")\n",
    "print(\"indexes of elements in ascending order:\",sorted_sample_2.numpy())"
   ]
  },
  {
   "cell_type": "markdown",
   "id": "ca9798c7",
   "metadata": {},
   "source": [
    "## 2. tf.nn.tpp_k()"
   ]
  },
  {
   "cell_type": "code",
   "execution_count": 55,
   "id": "9ae4927c",
   "metadata": {},
   "outputs": [
    {
     "name": "stdout",
     "output_type": "stream",
     "text": [
      "input tensor: [7 2 8 5 1 0 6 4 3 9]\n"
     ]
    }
   ],
   "source": [
    "values, index = tf.nn.top_k(sort_sample_1,5)\n",
    "print(\"input tensor:\",sort_sample_1.numpy())"
   ]
  },
  {
   "cell_type": "code",
   "execution_count": 56,
   "id": "7bf3aa6a",
   "metadata": {},
   "outputs": [
    {
     "name": "stdout",
     "output_type": "stream",
     "text": [
      "first five values in ascending order: [9 8 7 6 5]\n"
     ]
    }
   ],
   "source": [
    "print(\"first five values in ascending order:\", values.numpy())"
   ]
  },
  {
   "cell_type": "code",
   "execution_count": 57,
   "id": "8aaa2c0f",
   "metadata": {},
   "outputs": [
    {
     "name": "stdout",
     "output_type": "stream",
     "text": [
      "indexes of the first five values in ascending order: [9 2 0 6 3]\n"
     ]
    }
   ],
   "source": [
    "print(\"indexes of the first five values in ascending order:\", index.numpy())"
   ]
  },
  {
   "cell_type": "markdown",
   "id": "cfde8448",
   "metadata": {},
   "source": [
    "# Eager Execution"
   ]
  },
  {
   "cell_type": "code",
   "execution_count": 58,
   "id": "839aa627",
   "metadata": {},
   "outputs": [
    {
     "name": "stdout",
     "output_type": "stream",
     "text": [
      "[[4. 6.]\n",
      " [4. 6.]]\n"
     ]
    }
   ],
   "source": [
    "#Use the syntax of TensorFlow 1.x in TensorFlow 2.x. You can install the v1 compatibility package in TensorFlow 2.0 to inherit the TensorFlow 1.x code and disable the eager execution mode.\n",
    "import tensorflow.compat.v1 as tf\n",
    "tf.disable_eager_execution()\n",
    "#Create a graph and define it as a computational graph.\n",
    "a = tf.ones((2, 2), dtype=tf.dtypes.float32)\n",
    "b = tf.constant([[1, 2],\n",
    "[3, 4]], dtype=tf.dtypes.float32)\n",
    "c = tf.matmul(a, b)\n",
    "#Enable the drawing function, and perform the multiplication operation to obtain data.\n",
    "with tf.Session() as sess:\n",
    "    print(sess.run(c))"
   ]
  },
  {
   "cell_type": "code",
   "execution_count": 59,
   "id": "8ca101f0",
   "metadata": {},
   "outputs": [
    {
     "ename": "IndentationError",
     "evalue": "expected an indented block (Temp/ipykernel_18360/1524455116.py, line 6)",
     "output_type": "error",
     "traceback": [
      "\u001b[1;36m  File \u001b[1;32m\"C:\\Users\\USER\\AppData\\Local\\Temp/ipykernel_18360/1524455116.py\"\u001b[1;36m, line \u001b[1;32m6\u001b[0m\n\u001b[1;33m    y = tf.matmul(x, x)\u001b[0m\n\u001b[1;37m    ^\u001b[0m\n\u001b[1;31mIndentationError\u001b[0m\u001b[1;31m:\u001b[0m expected an indented block\n"
     ]
    }
   ],
   "source": [
    "import tensorflow as tf\n",
    "thre_1 = tf.random.uniform([], 0, 1)\n",
    "x = tf.reshape(tf.range(0, 4), [2, 2])\n",
    "print(thre_1)\n",
    "if thre_1.numpy() > 0.5:\n",
    "y = tf.matmul(x, x)\n",
    "else:\n",
    "y = tf.add(x, x)"
   ]
  },
  {
   "cell_type": "markdown",
   "id": "b3295f51",
   "metadata": {},
   "source": [
    "# AutoGraph of TensorFlow 2.x"
   ]
  },
  {
   "cell_type": "code",
   "execution_count": null,
   "id": "321584a0",
   "metadata": {},
   "outputs": [
    {
     "name": "stdout",
     "output_type": "stream",
     "text": [
      "Tensor(\"b:0\", shape=(), dtype=float32)\n"
     ]
    },
    {
     "data": {
      "text/plain": [
       "<tf.Tensor: shape=(3, 3), dtype=float32, numpy=\n",
       "array([[1.1920661 , 1.191967  , 1.2391963 ],\n",
       "       [1.4967974 , 1.1712788 , 1.279865  ],\n",
       "       [0.86344826, 0.63646233, 0.7125404 ]], dtype=float32)>"
      ]
     },
     "execution_count": 175,
     "metadata": {},
     "output_type": "execute_result"
    }
   ],
   "source": [
    "@tf.function\n",
    "def simple_nn_layer(w,x,b):\n",
    "    print(b)\n",
    "    return tf.nn.relu(tf.matmul(w, x)+b)\n",
    "    \n",
    "w = tf.random.uniform((3, 3))\n",
    "x = tf.random.uniform((3, 3))\n",
    "b = tf.constant(0.5, dtype='float32')\n",
    "simple_nn_layer(w,x,b)"
   ]
  },
  {
   "cell_type": "code",
   "execution_count": null,
   "id": "f86cc160",
   "metadata": {},
   "outputs": [],
   "source": [
    "#Use the timeit module to measure the execution time of a small code segment.\n",
    "import timeit\n",
    "\n",
    "#Create a convolutional layer.\n",
    "CNN_cell = tf.keras.layers.Conv2D(filters=100,kernel_size=2,strides=(1,1))"
   ]
  },
  {
   "cell_type": "code",
   "execution_count": null,
   "id": "bc87bb0d",
   "metadata": {},
   "outputs": [],
   "source": [
    "#Use @tf.function to convert the operation into a graph.\n",
    "@tf.function\n",
    "def CNN_fn(image):\n",
    "    return CNN_cell(image)\n",
    "\n",
    "image = tf.zeros([100, 200, 200, 3])"
   ]
  },
  {
   "cell_type": "code",
   "execution_count": null,
   "id": "ae0dbbe5",
   "metadata": {},
   "outputs": [
    {
     "data": {
      "text/plain": [
       "<tf.Tensor: shape=(100, 199, 199, 100), dtype=float32, numpy=\n",
       "array([[[[0., 0., 0., ..., 0., 0., 0.],\n",
       "         [0., 0., 0., ..., 0., 0., 0.],\n",
       "         [0., 0., 0., ..., 0., 0., 0.],\n",
       "         ...,\n",
       "         [0., 0., 0., ..., 0., 0., 0.],\n",
       "         [0., 0., 0., ..., 0., 0., 0.],\n",
       "         [0., 0., 0., ..., 0., 0., 0.]],\n",
       "\n",
       "        [[0., 0., 0., ..., 0., 0., 0.],\n",
       "         [0., 0., 0., ..., 0., 0., 0.],\n",
       "         [0., 0., 0., ..., 0., 0., 0.],\n",
       "         ...,\n",
       "         [0., 0., 0., ..., 0., 0., 0.],\n",
       "         [0., 0., 0., ..., 0., 0., 0.],\n",
       "         [0., 0., 0., ..., 0., 0., 0.]],\n",
       "\n",
       "        [[0., 0., 0., ..., 0., 0., 0.],\n",
       "         [0., 0., 0., ..., 0., 0., 0.],\n",
       "         [0., 0., 0., ..., 0., 0., 0.],\n",
       "         ...,\n",
       "         [0., 0., 0., ..., 0., 0., 0.],\n",
       "         [0., 0., 0., ..., 0., 0., 0.],\n",
       "         [0., 0., 0., ..., 0., 0., 0.]],\n",
       "\n",
       "        ...,\n",
       "\n",
       "        [[0., 0., 0., ..., 0., 0., 0.],\n",
       "         [0., 0., 0., ..., 0., 0., 0.],\n",
       "         [0., 0., 0., ..., 0., 0., 0.],\n",
       "         ...,\n",
       "         [0., 0., 0., ..., 0., 0., 0.],\n",
       "         [0., 0., 0., ..., 0., 0., 0.],\n",
       "         [0., 0., 0., ..., 0., 0., 0.]],\n",
       "\n",
       "        [[0., 0., 0., ..., 0., 0., 0.],\n",
       "         [0., 0., 0., ..., 0., 0., 0.],\n",
       "         [0., 0., 0., ..., 0., 0., 0.],\n",
       "         ...,\n",
       "         [0., 0., 0., ..., 0., 0., 0.],\n",
       "         [0., 0., 0., ..., 0., 0., 0.],\n",
       "         [0., 0., 0., ..., 0., 0., 0.]],\n",
       "\n",
       "        [[0., 0., 0., ..., 0., 0., 0.],\n",
       "         [0., 0., 0., ..., 0., 0., 0.],\n",
       "         [0., 0., 0., ..., 0., 0., 0.],\n",
       "         ...,\n",
       "         [0., 0., 0., ..., 0., 0., 0.],\n",
       "         [0., 0., 0., ..., 0., 0., 0.],\n",
       "         [0., 0., 0., ..., 0., 0., 0.]]],\n",
       "\n",
       "\n",
       "       [[[0., 0., 0., ..., 0., 0., 0.],\n",
       "         [0., 0., 0., ..., 0., 0., 0.],\n",
       "         [0., 0., 0., ..., 0., 0., 0.],\n",
       "         ...,\n",
       "         [0., 0., 0., ..., 0., 0., 0.],\n",
       "         [0., 0., 0., ..., 0., 0., 0.],\n",
       "         [0., 0., 0., ..., 0., 0., 0.]],\n",
       "\n",
       "        [[0., 0., 0., ..., 0., 0., 0.],\n",
       "         [0., 0., 0., ..., 0., 0., 0.],\n",
       "         [0., 0., 0., ..., 0., 0., 0.],\n",
       "         ...,\n",
       "         [0., 0., 0., ..., 0., 0., 0.],\n",
       "         [0., 0., 0., ..., 0., 0., 0.],\n",
       "         [0., 0., 0., ..., 0., 0., 0.]],\n",
       "\n",
       "        [[0., 0., 0., ..., 0., 0., 0.],\n",
       "         [0., 0., 0., ..., 0., 0., 0.],\n",
       "         [0., 0., 0., ..., 0., 0., 0.],\n",
       "         ...,\n",
       "         [0., 0., 0., ..., 0., 0., 0.],\n",
       "         [0., 0., 0., ..., 0., 0., 0.],\n",
       "         [0., 0., 0., ..., 0., 0., 0.]],\n",
       "\n",
       "        ...,\n",
       "\n",
       "        [[0., 0., 0., ..., 0., 0., 0.],\n",
       "         [0., 0., 0., ..., 0., 0., 0.],\n",
       "         [0., 0., 0., ..., 0., 0., 0.],\n",
       "         ...,\n",
       "         [0., 0., 0., ..., 0., 0., 0.],\n",
       "         [0., 0., 0., ..., 0., 0., 0.],\n",
       "         [0., 0., 0., ..., 0., 0., 0.]],\n",
       "\n",
       "        [[0., 0., 0., ..., 0., 0., 0.],\n",
       "         [0., 0., 0., ..., 0., 0., 0.],\n",
       "         [0., 0., 0., ..., 0., 0., 0.],\n",
       "         ...,\n",
       "         [0., 0., 0., ..., 0., 0., 0.],\n",
       "         [0., 0., 0., ..., 0., 0., 0.],\n",
       "         [0., 0., 0., ..., 0., 0., 0.]],\n",
       "\n",
       "        [[0., 0., 0., ..., 0., 0., 0.],\n",
       "         [0., 0., 0., ..., 0., 0., 0.],\n",
       "         [0., 0., 0., ..., 0., 0., 0.],\n",
       "         ...,\n",
       "         [0., 0., 0., ..., 0., 0., 0.],\n",
       "         [0., 0., 0., ..., 0., 0., 0.],\n",
       "         [0., 0., 0., ..., 0., 0., 0.]]],\n",
       "\n",
       "\n",
       "       [[[0., 0., 0., ..., 0., 0., 0.],\n",
       "         [0., 0., 0., ..., 0., 0., 0.],\n",
       "         [0., 0., 0., ..., 0., 0., 0.],\n",
       "         ...,\n",
       "         [0., 0., 0., ..., 0., 0., 0.],\n",
       "         [0., 0., 0., ..., 0., 0., 0.],\n",
       "         [0., 0., 0., ..., 0., 0., 0.]],\n",
       "\n",
       "        [[0., 0., 0., ..., 0., 0., 0.],\n",
       "         [0., 0., 0., ..., 0., 0., 0.],\n",
       "         [0., 0., 0., ..., 0., 0., 0.],\n",
       "         ...,\n",
       "         [0., 0., 0., ..., 0., 0., 0.],\n",
       "         [0., 0., 0., ..., 0., 0., 0.],\n",
       "         [0., 0., 0., ..., 0., 0., 0.]],\n",
       "\n",
       "        [[0., 0., 0., ..., 0., 0., 0.],\n",
       "         [0., 0., 0., ..., 0., 0., 0.],\n",
       "         [0., 0., 0., ..., 0., 0., 0.],\n",
       "         ...,\n",
       "         [0., 0., 0., ..., 0., 0., 0.],\n",
       "         [0., 0., 0., ..., 0., 0., 0.],\n",
       "         [0., 0., 0., ..., 0., 0., 0.]],\n",
       "\n",
       "        ...,\n",
       "\n",
       "        [[0., 0., 0., ..., 0., 0., 0.],\n",
       "         [0., 0., 0., ..., 0., 0., 0.],\n",
       "         [0., 0., 0., ..., 0., 0., 0.],\n",
       "         ...,\n",
       "         [0., 0., 0., ..., 0., 0., 0.],\n",
       "         [0., 0., 0., ..., 0., 0., 0.],\n",
       "         [0., 0., 0., ..., 0., 0., 0.]],\n",
       "\n",
       "        [[0., 0., 0., ..., 0., 0., 0.],\n",
       "         [0., 0., 0., ..., 0., 0., 0.],\n",
       "         [0., 0., 0., ..., 0., 0., 0.],\n",
       "         ...,\n",
       "         [0., 0., 0., ..., 0., 0., 0.],\n",
       "         [0., 0., 0., ..., 0., 0., 0.],\n",
       "         [0., 0., 0., ..., 0., 0., 0.]],\n",
       "\n",
       "        [[0., 0., 0., ..., 0., 0., 0.],\n",
       "         [0., 0., 0., ..., 0., 0., 0.],\n",
       "         [0., 0., 0., ..., 0., 0., 0.],\n",
       "         ...,\n",
       "         [0., 0., 0., ..., 0., 0., 0.],\n",
       "         [0., 0., 0., ..., 0., 0., 0.],\n",
       "         [0., 0., 0., ..., 0., 0., 0.]]],\n",
       "\n",
       "\n",
       "       ...,\n",
       "\n",
       "\n",
       "       [[[0., 0., 0., ..., 0., 0., 0.],\n",
       "         [0., 0., 0., ..., 0., 0., 0.],\n",
       "         [0., 0., 0., ..., 0., 0., 0.],\n",
       "         ...,\n",
       "         [0., 0., 0., ..., 0., 0., 0.],\n",
       "         [0., 0., 0., ..., 0., 0., 0.],\n",
       "         [0., 0., 0., ..., 0., 0., 0.]],\n",
       "\n",
       "        [[0., 0., 0., ..., 0., 0., 0.],\n",
       "         [0., 0., 0., ..., 0., 0., 0.],\n",
       "         [0., 0., 0., ..., 0., 0., 0.],\n",
       "         ...,\n",
       "         [0., 0., 0., ..., 0., 0., 0.],\n",
       "         [0., 0., 0., ..., 0., 0., 0.],\n",
       "         [0., 0., 0., ..., 0., 0., 0.]],\n",
       "\n",
       "        [[0., 0., 0., ..., 0., 0., 0.],\n",
       "         [0., 0., 0., ..., 0., 0., 0.],\n",
       "         [0., 0., 0., ..., 0., 0., 0.],\n",
       "         ...,\n",
       "         [0., 0., 0., ..., 0., 0., 0.],\n",
       "         [0., 0., 0., ..., 0., 0., 0.],\n",
       "         [0., 0., 0., ..., 0., 0., 0.]],\n",
       "\n",
       "        ...,\n",
       "\n",
       "        [[0., 0., 0., ..., 0., 0., 0.],\n",
       "         [0., 0., 0., ..., 0., 0., 0.],\n",
       "         [0., 0., 0., ..., 0., 0., 0.],\n",
       "         ...,\n",
       "         [0., 0., 0., ..., 0., 0., 0.],\n",
       "         [0., 0., 0., ..., 0., 0., 0.],\n",
       "         [0., 0., 0., ..., 0., 0., 0.]],\n",
       "\n",
       "        [[0., 0., 0., ..., 0., 0., 0.],\n",
       "         [0., 0., 0., ..., 0., 0., 0.],\n",
       "         [0., 0., 0., ..., 0., 0., 0.],\n",
       "         ...,\n",
       "         [0., 0., 0., ..., 0., 0., 0.],\n",
       "         [0., 0., 0., ..., 0., 0., 0.],\n",
       "         [0., 0., 0., ..., 0., 0., 0.]],\n",
       "\n",
       "        [[0., 0., 0., ..., 0., 0., 0.],\n",
       "         [0., 0., 0., ..., 0., 0., 0.],\n",
       "         [0., 0., 0., ..., 0., 0., 0.],\n",
       "         ...,\n",
       "         [0., 0., 0., ..., 0., 0., 0.],\n",
       "         [0., 0., 0., ..., 0., 0., 0.],\n",
       "         [0., 0., 0., ..., 0., 0., 0.]]],\n",
       "\n",
       "\n",
       "       [[[0., 0., 0., ..., 0., 0., 0.],\n",
       "         [0., 0., 0., ..., 0., 0., 0.],\n",
       "         [0., 0., 0., ..., 0., 0., 0.],\n",
       "         ...,\n",
       "         [0., 0., 0., ..., 0., 0., 0.],\n",
       "         [0., 0., 0., ..., 0., 0., 0.],\n",
       "         [0., 0., 0., ..., 0., 0., 0.]],\n",
       "\n",
       "        [[0., 0., 0., ..., 0., 0., 0.],\n",
       "         [0., 0., 0., ..., 0., 0., 0.],\n",
       "         [0., 0., 0., ..., 0., 0., 0.],\n",
       "         ...,\n",
       "         [0., 0., 0., ..., 0., 0., 0.],\n",
       "         [0., 0., 0., ..., 0., 0., 0.],\n",
       "         [0., 0., 0., ..., 0., 0., 0.]],\n",
       "\n",
       "        [[0., 0., 0., ..., 0., 0., 0.],\n",
       "         [0., 0., 0., ..., 0., 0., 0.],\n",
       "         [0., 0., 0., ..., 0., 0., 0.],\n",
       "         ...,\n",
       "         [0., 0., 0., ..., 0., 0., 0.],\n",
       "         [0., 0., 0., ..., 0., 0., 0.],\n",
       "         [0., 0., 0., ..., 0., 0., 0.]],\n",
       "\n",
       "        ...,\n",
       "\n",
       "        [[0., 0., 0., ..., 0., 0., 0.],\n",
       "         [0., 0., 0., ..., 0., 0., 0.],\n",
       "         [0., 0., 0., ..., 0., 0., 0.],\n",
       "         ...,\n",
       "         [0., 0., 0., ..., 0., 0., 0.],\n",
       "         [0., 0., 0., ..., 0., 0., 0.],\n",
       "         [0., 0., 0., ..., 0., 0., 0.]],\n",
       "\n",
       "        [[0., 0., 0., ..., 0., 0., 0.],\n",
       "         [0., 0., 0., ..., 0., 0., 0.],\n",
       "         [0., 0., 0., ..., 0., 0., 0.],\n",
       "         ...,\n",
       "         [0., 0., 0., ..., 0., 0., 0.],\n",
       "         [0., 0., 0., ..., 0., 0., 0.],\n",
       "         [0., 0., 0., ..., 0., 0., 0.]],\n",
       "\n",
       "        [[0., 0., 0., ..., 0., 0., 0.],\n",
       "         [0., 0., 0., ..., 0., 0., 0.],\n",
       "         [0., 0., 0., ..., 0., 0., 0.],\n",
       "         ...,\n",
       "         [0., 0., 0., ..., 0., 0., 0.],\n",
       "         [0., 0., 0., ..., 0., 0., 0.],\n",
       "         [0., 0., 0., ..., 0., 0., 0.]]],\n",
       "\n",
       "\n",
       "       [[[0., 0., 0., ..., 0., 0., 0.],\n",
       "         [0., 0., 0., ..., 0., 0., 0.],\n",
       "         [0., 0., 0., ..., 0., 0., 0.],\n",
       "         ...,\n",
       "         [0., 0., 0., ..., 0., 0., 0.],\n",
       "         [0., 0., 0., ..., 0., 0., 0.],\n",
       "         [0., 0., 0., ..., 0., 0., 0.]],\n",
       "\n",
       "        [[0., 0., 0., ..., 0., 0., 0.],\n",
       "         [0., 0., 0., ..., 0., 0., 0.],\n",
       "         [0., 0., 0., ..., 0., 0., 0.],\n",
       "         ...,\n",
       "         [0., 0., 0., ..., 0., 0., 0.],\n",
       "         [0., 0., 0., ..., 0., 0., 0.],\n",
       "         [0., 0., 0., ..., 0., 0., 0.]],\n",
       "\n",
       "        [[0., 0., 0., ..., 0., 0., 0.],\n",
       "         [0., 0., 0., ..., 0., 0., 0.],\n",
       "         [0., 0., 0., ..., 0., 0., 0.],\n",
       "         ...,\n",
       "         [0., 0., 0., ..., 0., 0., 0.],\n",
       "         [0., 0., 0., ..., 0., 0., 0.],\n",
       "         [0., 0., 0., ..., 0., 0., 0.]],\n",
       "\n",
       "        ...,\n",
       "\n",
       "        [[0., 0., 0., ..., 0., 0., 0.],\n",
       "         [0., 0., 0., ..., 0., 0., 0.],\n",
       "         [0., 0., 0., ..., 0., 0., 0.],\n",
       "         ...,\n",
       "         [0., 0., 0., ..., 0., 0., 0.],\n",
       "         [0., 0., 0., ..., 0., 0., 0.],\n",
       "         [0., 0., 0., ..., 0., 0., 0.]],\n",
       "\n",
       "        [[0., 0., 0., ..., 0., 0., 0.],\n",
       "         [0., 0., 0., ..., 0., 0., 0.],\n",
       "         [0., 0., 0., ..., 0., 0., 0.],\n",
       "         ...,\n",
       "         [0., 0., 0., ..., 0., 0., 0.],\n",
       "         [0., 0., 0., ..., 0., 0., 0.],\n",
       "         [0., 0., 0., ..., 0., 0., 0.]],\n",
       "\n",
       "        [[0., 0., 0., ..., 0., 0., 0.],\n",
       "         [0., 0., 0., ..., 0., 0., 0.],\n",
       "         [0., 0., 0., ..., 0., 0., 0.],\n",
       "         ...,\n",
       "         [0., 0., 0., ..., 0., 0., 0.],\n",
       "         [0., 0., 0., ..., 0., 0., 0.],\n",
       "         [0., 0., 0., ..., 0., 0., 0.]]]], dtype=float32)>"
      ]
     },
     "execution_count": 178,
     "metadata": {},
     "output_type": "execute_result"
    }
   ],
   "source": [
    "#Compare the execution time of the two modes.\n",
    "CNN_cell(image)\n",
    "CNN_fn(image)"
   ]
  },
  {
   "cell_type": "code",
   "execution_count": null,
   "id": "96b18b43",
   "metadata": {},
   "outputs": [
    {
     "name": "stdout",
     "output_type": "stream",
     "text": [
      "Computation of one CNN layer in eager execution mode: 7.033313199994154\n",
      "Computation of one CNN layer in graph mode: 3.6503439999651164\n"
     ]
    }
   ],
   "source": [
    "#Call timeit.timeit to measure the time required for executing the code 10 times.\n",
    "print(\"Computation of one CNN layer in eager execution mode:\", timeit.timeit(lambda: CNN_cell(image), number=10))\n",
    "print(\"Computation of one CNN layer in graph mode:\", timeit.timeit(lambda: CNN_fn(image), number=10))"
   ]
  }
 ],
 "metadata": {
  "kernelspec": {
   "display_name": "Python 3.9.7 64-bit",
   "language": "python",
   "name": "python3"
  },
  "language_info": {
   "codemirror_mode": {
    "name": "ipython",
    "version": 3
   },
   "file_extension": ".py",
   "mimetype": "text/x-python",
   "name": "python",
   "nbconvert_exporter": "python",
   "pygments_lexer": "ipython3",
   "version": "3.9.7"
  },
  "vscode": {
   "interpreter": {
    "hash": "1d5c1156327dacead463cc502c55ebae8ce9c8c01979cf154173ff808e75bf55"
   }
  }
 },
 "nbformat": 4,
 "nbformat_minor": 5
}

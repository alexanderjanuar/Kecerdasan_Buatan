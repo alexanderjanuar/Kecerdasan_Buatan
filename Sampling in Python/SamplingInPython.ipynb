{
 "cells": [
  {
   "attachments": {},
   "cell_type": "markdown",
   "metadata": {},
   "source": [
    "# Sampling in Python\n",
    "\n",
    "Pengambilan sampel dengan Python adalah landasan statistik inferensi dan pengujian hipotesis. Ini merupakan keterampilan yang digunakan dalam analisis survei dan desain eksperimental untuk menarik kesimpulan tanpa mensurvei seluruh populasi."
   ]
  },
  {
   "cell_type": "code",
   "execution_count": 2,
   "metadata": {},
   "outputs": [],
   "source": [
    "# Importing pandas\n",
    "import pandas as pd\n",
    "\n",
    "# Importing Data\n",
    "attrition = pd.read_feather(\"Data/attrition.feather\")\n",
    "spotify = pd.read_feather(\"Data/spotify_2000_2020.feather\")\n",
    "coffee = pd.read_feather(\"Data/coffee_ratings_full.feather\")"
   ]
  },
  {
   "attachments": {},
   "cell_type": "markdown",
   "metadata": {},
   "source": [
    "## Introduction to Sampling\n",
    "Pengenalan kepada sampling dan mempelajari permasalahan yang disebabkan oleh *convenience sampling* (Sampling Kebetulan) dan mempelajari perbedaan antara *true randomness* dan *pseudo-randomness*"
   ]
  },
  {
   "attachments": {},
   "cell_type": "markdown",
   "metadata": {},
   "source": [
    "### Sampling and point estimates\n",
    "\n",
    "- **Sampling** adalah proses di mana porsi dari suatu populasi diseleksi agar dapat mewakilkan populasi tersebut.\n",
    "- **Population** adalah seluruh bagian data yang lengkap\n",
    "  - Tidak harus mengacu kepada orang\n",
    "  - Biasanya, kita tidak tahu berapa jumlah pasti dari seluruh populasi\n",
    "- **Sample** merupakan bagian kecil dari populasi yang dianggap dapat mewakilkan seluruh populasi\n",
    "\n",
    "Sampling tidak disarankan dilakukan ketika populasi/data yang dimiliki berjumlah sedikit"
   ]
  },
  {
   "attachments": {},
   "cell_type": "markdown",
   "metadata": {},
   "source": [
    "#### Sampling sederhana dengan Pandas"
   ]
  },
  {
   "cell_type": "code",
   "execution_count": 3,
   "metadata": {},
   "outputs": [
    {
     "name": "stdout",
     "output_type": "stream",
     "text": [
      "Rata - rata durasi dari populasi : 3.8521519140900073\n",
      "Rata - rata durasi dari sample   : 3.9333864666666667\n"
     ]
    }
   ],
   "source": [
    "# Sample 1000 baris dari data spotify\n",
    "spotify_sample = spotify.sample(n=1000)\n",
    "\n",
    "# Hitung rata - rata dari kolom 'duration_minutes' dari data spotify\n",
    "mean_dur_pop = spotify[\"duration_minutes\"].mean()\n",
    "\n",
    "# Hitung rata - rata dari kolom 'duration_minutes' dari data spotify sample\n",
    "mean_dur_samp = spotify_sample[\"duration_minutes\"].mean()\n",
    "\n",
    "# Print the means\n",
    "print(f'Rata - rata durasi dari populasi : {mean_dur_pop}')\n",
    "print(f'Rata - rata durasi dari sample   : {mean_dur_samp}')"
   ]
  },
  {
   "attachments": {},
   "cell_type": "markdown",
   "metadata": {},
   "source": [
    "Dapat terlihat bahwa nilai rata rata dari **sample** dan **populasi** terlihat mendekati namun tidak sama persis"
   ]
  },
  {
   "attachments": {},
   "cell_type": "markdown",
   "metadata": {},
   "source": [
    "#### Sampling sederhana dengan Numpy"
   ]
  },
  {
   "cell_type": "code",
   "execution_count": 4,
   "metadata": {},
   "outputs": [
    {
     "name": "stdout",
     "output_type": "stream",
     "text": [
      "Rata - rata loudness dari populasi : -7.366856851353947\n",
      "Rata - rata loudness dari sample   : -7.330749999999999\n"
     ]
    }
   ],
   "source": [
    "#Import numpy\n",
    "import numpy as np\n",
    "\n",
    "# Buat series pandas dari kolom 'loudness' dari data populasi\n",
    "loudness_pop = spotify['loudness']\n",
    "\n",
    "# Sample 100 nilai dari loudness_pop\n",
    "loudness_samp = loudness_pop.sample(n=100)\n",
    "\n",
    "# Hitung rata - rata loudness_pop\n",
    "mean_loudness_pop = np.mean(loudness_pop)\n",
    "\n",
    "# Hitung rata - rata loudness_samp\n",
    "mean_loudness_samp = np.mean(loudness_samp)\n",
    "\n",
    "# Print the means\n",
    "print(f'Rata - rata loudness dari populasi : {mean_loudness_pop}')\n",
    "print(f'Rata - rata loudness dari sample   : {mean_loudness_samp}')"
   ]
  },
  {
   "attachments": {},
   "cell_type": "markdown",
   "metadata": {},
   "source": [
    "Dapat terlihat lagi bahwa nilai rata rata dari **sample** dan **populasi** terlihat mendekati namun tidak sama persis"
   ]
  },
  {
   "attachments": {},
   "cell_type": "markdown",
   "metadata": {},
   "source": [
    "### Convenience Sampling\n",
    "\n",
    "- Convenience Sampling adalah pengambilan sampel secara bebas \n",
    "- Teknik pengambilan sampel yang paling umum digunakan karena sangat cepat, tidak rumit, dan ekonomis.\n",
    "- Namun teknik ini, rentan terhadap terjadinya *sample bias* atau sample tidak representatif terhadap populasi"
   ]
  },
  {
   "cell_type": "code",
   "execution_count": 5,
   "metadata": {},
   "outputs": [
    {
     "data": {
      "image/png": "[encoded data removed]",
      "text/plain": [
       "<Figure size 720x360 with 1 Axes>"
      ]
     },
     "metadata": {
      "needs_background": "light"
     },
     "output_type": "display_data"
    },
    {
     "data": {
      "image/png": "[encoded data removed]",
      "text/plain": [
       "<Figure size 720x360 with 1 Axes>"
      ]
     },
     "metadata": {
      "needs_background": "light"
     },
     "output_type": "display_data"
    }
   ],
   "source": [
    "#Import matplotlib\n",
    "import matplotlib.pyplot as plt\n",
    "\n",
    "plt.figure(figsize=(10,5))\n",
    "spotify['acousticness'].hist(bins=np.arange(0,1.01,0.01))\n",
    "plt.title(\"Population Distribution\")\n",
    "plt.show()\n",
    "\n",
    "\n",
    "plt.figure(figsize=(10,5))\n",
    "spotify_acousticness_sample = spotify.head(50)\n",
    "spotify_acousticness_sample['acousticness'].hist(bins=np.arange(0,1.01,0.01))\n",
    "plt.title(\"Convenience Sampling\")\n",
    "plt.show()"
   ]
  },
  {
   "attachments": {},
   "cell_type": "markdown",
   "metadata": {},
   "source": [
    "### Pseudo-random number generation"
   ]
  },
  {
   "cell_type": "code",
   "execution_count": 6,
   "metadata": {},
   "outputs": [
    {
     "data": {
      "image/png": "[encoded data removed]",
      "text/plain": [
       "<Figure size 720x360 with 1 Axes>"
      ]
     },
     "metadata": {
      "needs_background": "light"
     },
     "output_type": "display_data"
    }
   ],
   "source": [
    "# Buat bilangan acak dengan distribusi uniform dengan bilangan paling kecil -3 dan paling besar 3\n",
    "uniforms = np.random.uniform(low=-3, high=3, size=5000)\n",
    "\n",
    "# Buat histogram dari nilai uniforms\n",
    "plt.figure(figsize=(10,5))\n",
    "plt.hist(uniforms, bins=np.arange(-3, 3.25, 0.25))\n",
    "plt.title(\"Uniform Distribution\")\n",
    "plt.show()"
   ]
  },
  {
   "cell_type": "code",
   "execution_count": 7,
   "metadata": {},
   "outputs": [
    {
     "data": {
      "image/png": "[encoded data removed]",
      "text/plain": [
       "<Figure size 720x360 with 1 Axes>"
      ]
     },
     "metadata": {
      "needs_background": "light"
     },
     "output_type": "display_data"
    }
   ],
   "source": [
    "normals = np.random.normal(loc=5, scale=2, size=5000)\n",
    "\n",
    "plt.figure(figsize=(10,5))\n",
    "plt.hist(normals, bins=np.arange(-2, 13.5, 0.5))\n",
    "plt.title(\"Normal Distribution\")\n",
    "plt.show()"
   ]
  },
  {
   "attachments": {},
   "cell_type": "markdown",
   "metadata": {},
   "source": [
    "#### Memahami Random Seed\n",
    "\n",
    "Random seed berguna agar bilangan acak dapat dihasilkan kembali"
   ]
  },
  {
   "cell_type": "code",
   "execution_count": 8,
   "metadata": {},
   "outputs": [
    {
     "name": "stdout",
     "output_type": "stream",
     "text": [
      "X : [-1.0856306   0.99734545  0.2829785  -1.50629471 -0.57860025]\n",
      "Y : [-0.6681285  -0.49820952  0.61857582  0.56869225  1.35050948]\n"
     ]
    }
   ],
   "source": [
    "import numpy as np\n",
    "np.random.seed(123)\n",
    "x = np.random.normal(size=5)\n",
    "print(f'X : {x}')\n",
    "\n",
    "np.random.seed(456)\n",
    "y = np.random.normal(size=5)\n",
    "print(f'Y : {y}')"
   ]
  },
  {
   "attachments": {},
   "cell_type": "markdown",
   "metadata": {},
   "source": [
    "Seed yang berbeda akan menghasilkan bilangan acak yang berbeda juga"
   ]
  },
  {
   "cell_type": "code",
   "execution_count": 9,
   "metadata": {},
   "outputs": [
    {
     "name": "stdout",
     "output_type": "stream",
     "text": [
      "X : [-1.0856306   0.99734545  0.2829785  -1.50629471 -0.57860025]\n",
      "Y : [-1.0856306   0.99734545  0.2829785  -1.50629471 -0.57860025]\n"
     ]
    }
   ],
   "source": [
    "np.random.seed(123)\n",
    "x = np.random.normal(size=5)\n",
    "print(f'X : {x}')\n",
    "\n",
    "np.random.seed(123)\n",
    "y = np.random.normal(size=5)\n",
    "print(f'Y : {y}')"
   ]
  },
  {
   "attachments": {},
   "cell_type": "markdown",
   "metadata": {},
   "source": [
    "Ketika memakai nilai seed yang sama maka bilangan random akan sama"
   ]
  },
  {
   "attachments": {},
   "cell_type": "markdown",
   "metadata": {},
   "source": [
    "## Sampling Methods\n",
    "Menjelaskan dan mempraktikan 4 metode sampling menggunakan Python:\n",
    "- Simple Sampling\n",
    "- Systematic Sampling\n",
    "- Stratified Sampling\n",
    "- Cluster Sampling"
   ]
  },
  {
   "attachments": {},
   "cell_type": "markdown",
   "metadata": {},
   "source": [
    "### Simple random dan systematic sampling"
   ]
  },
  {
   "attachments": {},
   "cell_type": "markdown",
   "metadata": {},
   "source": [
    "#### **Simple Random Sampling**\n",
    "- Salah satu metode *sampling* yang paling sederhana\n",
    "- Bekerja dengan cara memilih *sample* secara acak dan setiap *sample* memiliki kemungkinan yang sama untuk dipilih"
   ]
  },
  {
   "cell_type": "code",
   "execution_count": 10,
   "metadata": {},
   "outputs": [
    {
     "data": {
      "text/html": [
       "<div>\n",
       "<style scoped>\n",
       "    .dataframe tbody tr th:only-of-type {\n",
       "        vertical-align: middle;\n",
       "    }\n",
       "\n",
       "    .dataframe tbody tr th {\n",
       "        vertical-align: top;\n",
       "    }\n",
       "\n",
       "    .dataframe thead th {\n",
       "        text-align: right;\n",
       "    }\n",
       "</style>\n",
       "<table border=\"1\" class=\"dataframe\">\n",
       "  <thead>\n",
       "    <tr style=\"text-align: right;\">\n",
       "      <th></th>\n",
       "      <th>Age</th>\n",
       "      <th>Attrition</th>\n",
       "      <th>BusinessTravel</th>\n",
       "      <th>DailyRate</th>\n",
       "      <th>Department</th>\n",
       "      <th>DistanceFromHome</th>\n",
       "      <th>Education</th>\n",
       "      <th>EducationField</th>\n",
       "      <th>EnvironmentSatisfaction</th>\n",
       "      <th>Gender</th>\n",
       "      <th>...</th>\n",
       "      <th>PerformanceRating</th>\n",
       "      <th>RelationshipSatisfaction</th>\n",
       "      <th>StockOptionLevel</th>\n",
       "      <th>TotalWorkingYears</th>\n",
       "      <th>TrainingTimesLastYear</th>\n",
       "      <th>WorkLifeBalance</th>\n",
       "      <th>YearsAtCompany</th>\n",
       "      <th>YearsInCurrentRole</th>\n",
       "      <th>YearsSinceLastPromotion</th>\n",
       "      <th>YearsWithCurrManager</th>\n",
       "    </tr>\n",
       "  </thead>\n",
       "  <tbody>\n",
       "    <tr>\n",
       "      <th>1134</th>\n",
       "      <td>35</td>\n",
       "      <td>0.0</td>\n",
       "      <td>Travel_Rarely</td>\n",
       "      <td>583</td>\n",
       "      <td>Research_Development</td>\n",
       "      <td>25</td>\n",
       "      <td>Master</td>\n",
       "      <td>Medical</td>\n",
       "      <td>High</td>\n",
       "      <td>Female</td>\n",
       "      <td>...</td>\n",
       "      <td>Excellent</td>\n",
       "      <td>High</td>\n",
       "      <td>1</td>\n",
       "      <td>16</td>\n",
       "      <td>3</td>\n",
       "      <td>Good</td>\n",
       "      <td>16</td>\n",
       "      <td>10</td>\n",
       "      <td>10</td>\n",
       "      <td>1</td>\n",
       "    </tr>\n",
       "    <tr>\n",
       "      <th>1150</th>\n",
       "      <td>52</td>\n",
       "      <td>0.0</td>\n",
       "      <td>Non-Travel</td>\n",
       "      <td>585</td>\n",
       "      <td>Sales</td>\n",
       "      <td>29</td>\n",
       "      <td>Master</td>\n",
       "      <td>Life_Sciences</td>\n",
       "      <td>Low</td>\n",
       "      <td>Male</td>\n",
       "      <td>...</td>\n",
       "      <td>Excellent</td>\n",
       "      <td>Medium</td>\n",
       "      <td>2</td>\n",
       "      <td>16</td>\n",
       "      <td>3</td>\n",
       "      <td>Good</td>\n",
       "      <td>9</td>\n",
       "      <td>8</td>\n",
       "      <td>0</td>\n",
       "      <td>0</td>\n",
       "    </tr>\n",
       "    <tr>\n",
       "      <th>531</th>\n",
       "      <td>33</td>\n",
       "      <td>0.0</td>\n",
       "      <td>Travel_Rarely</td>\n",
       "      <td>931</td>\n",
       "      <td>Research_Development</td>\n",
       "      <td>14</td>\n",
       "      <td>Bachelor</td>\n",
       "      <td>Medical</td>\n",
       "      <td>Very_High</td>\n",
       "      <td>Female</td>\n",
       "      <td>...</td>\n",
       "      <td>Excellent</td>\n",
       "      <td>Very_High</td>\n",
       "      <td>1</td>\n",
       "      <td>8</td>\n",
       "      <td>5</td>\n",
       "      <td>Better</td>\n",
       "      <td>8</td>\n",
       "      <td>7</td>\n",
       "      <td>1</td>\n",
       "      <td>6</td>\n",
       "    </tr>\n",
       "    <tr>\n",
       "      <th>395</th>\n",
       "      <td>31</td>\n",
       "      <td>0.0</td>\n",
       "      <td>Travel_Rarely</td>\n",
       "      <td>1332</td>\n",
       "      <td>Research_Development</td>\n",
       "      <td>11</td>\n",
       "      <td>College</td>\n",
       "      <td>Medical</td>\n",
       "      <td>High</td>\n",
       "      <td>Male</td>\n",
       "      <td>...</td>\n",
       "      <td>Excellent</td>\n",
       "      <td>Very_High</td>\n",
       "      <td>0</td>\n",
       "      <td>6</td>\n",
       "      <td>2</td>\n",
       "      <td>Good</td>\n",
       "      <td>6</td>\n",
       "      <td>5</td>\n",
       "      <td>0</td>\n",
       "      <td>1</td>\n",
       "    </tr>\n",
       "    <tr>\n",
       "      <th>392</th>\n",
       "      <td>29</td>\n",
       "      <td>0.0</td>\n",
       "      <td>Travel_Rarely</td>\n",
       "      <td>942</td>\n",
       "      <td>Research_Development</td>\n",
       "      <td>15</td>\n",
       "      <td>Below_College</td>\n",
       "      <td>Life_Sciences</td>\n",
       "      <td>Medium</td>\n",
       "      <td>Female</td>\n",
       "      <td>...</td>\n",
       "      <td>Excellent</td>\n",
       "      <td>Low</td>\n",
       "      <td>1</td>\n",
       "      <td>6</td>\n",
       "      <td>2</td>\n",
       "      <td>Good</td>\n",
       "      <td>5</td>\n",
       "      <td>4</td>\n",
       "      <td>1</td>\n",
       "      <td>3</td>\n",
       "    </tr>\n",
       "  </tbody>\n",
       "</table>\n",
       "<p>5 rows × 31 columns</p>\n",
       "</div>"
      ],
      "text/plain": [
       "      Age  Attrition BusinessTravel  DailyRate            Department  \\\n",
       "1134   35        0.0  Travel_Rarely        583  Research_Development   \n",
       "1150   52        0.0     Non-Travel        585                 Sales   \n",
       "531    33        0.0  Travel_Rarely        931  Research_Development   \n",
       "395    31        0.0  Travel_Rarely       1332  Research_Development   \n",
       "392    29        0.0  Travel_Rarely        942  Research_Development   \n",
       "\n",
       "      DistanceFromHome      Education EducationField EnvironmentSatisfaction  \\\n",
       "1134                25         Master        Medical                    High   \n",
       "1150                29         Master  Life_Sciences                     Low   \n",
       "531                 14       Bachelor        Medical               Very_High   \n",
       "395                 11        College        Medical                    High   \n",
       "392                 15  Below_College  Life_Sciences                  Medium   \n",
       "\n",
       "      Gender  ...  PerformanceRating RelationshipSatisfaction  \\\n",
       "1134  Female  ...          Excellent                     High   \n",
       "1150    Male  ...          Excellent                   Medium   \n",
       "531   Female  ...          Excellent                Very_High   \n",
       "395     Male  ...          Excellent                Very_High   \n",
       "392   Female  ...          Excellent                      Low   \n",
       "\n",
       "      StockOptionLevel TotalWorkingYears TrainingTimesLastYear  \\\n",
       "1134                 1                16                     3   \n",
       "1150                 2                16                     3   \n",
       "531                  1                 8                     5   \n",
       "395                  0                 6                     2   \n",
       "392                  1                 6                     2   \n",
       "\n",
       "     WorkLifeBalance  YearsAtCompany  YearsInCurrentRole  \\\n",
       "1134            Good              16                  10   \n",
       "1150            Good               9                   8   \n",
       "531           Better               8                   7   \n",
       "395             Good               6                   5   \n",
       "392             Good               5                   4   \n",
       "\n",
       "      YearsSinceLastPromotion YearsWithCurrManager  \n",
       "1134                       10                    1  \n",
       "1150                        0                    0  \n",
       "531                         1                    6  \n",
       "395                         0                    1  \n",
       "392                         1                    3  \n",
       "\n",
       "[5 rows x 31 columns]"
      ]
     },
     "execution_count": 10,
     "metadata": {},
     "output_type": "execute_result"
    }
   ],
   "source": [
    "# Sample 50 baris menggunakan Simple Random Sampling \n",
    "attrition_samp = attrition.sample(n=50,random_state=18900217)\n",
    "\n",
    "# Print the sample\n",
    "attrition_samp.head()"
   ]
  },
  {
   "attachments": {},
   "cell_type": "markdown",
   "metadata": {},
   "source": [
    "Terlihat bahwa index tiap baris yang terambil secara acak "
   ]
  },
  {
   "attachments": {},
   "cell_type": "markdown",
   "metadata": {},
   "source": [
    "#### **Systematic Sampling**\n",
    "- Suatu metode pengambilan sampel, dimana hanya unsur pertama saja dari sampel dipilih secara acak, sedangkan unsur-unsur selanjutnya dipilih secara sistematis menurut pola tertentu."
   ]
  },
  {
   "cell_type": "code",
   "execution_count": 11,
   "metadata": {},
   "outputs": [
    {
     "data": {
      "text/html": [
       "<div>\n",
       "<style scoped>\n",
       "    .dataframe tbody tr th:only-of-type {\n",
       "        vertical-align: middle;\n",
       "    }\n",
       "\n",
       "    .dataframe tbody tr th {\n",
       "        vertical-align: top;\n",
       "    }\n",
       "\n",
       "    .dataframe thead th {\n",
       "        text-align: right;\n",
       "    }\n",
       "</style>\n",
       "<table border=\"1\" class=\"dataframe\">\n",
       "  <thead>\n",
       "    <tr style=\"text-align: right;\">\n",
       "      <th></th>\n",
       "      <th>Age</th>\n",
       "      <th>Attrition</th>\n",
       "      <th>BusinessTravel</th>\n",
       "      <th>DailyRate</th>\n",
       "      <th>Department</th>\n",
       "      <th>DistanceFromHome</th>\n",
       "      <th>Education</th>\n",
       "      <th>EducationField</th>\n",
       "      <th>EnvironmentSatisfaction</th>\n",
       "      <th>Gender</th>\n",
       "      <th>...</th>\n",
       "      <th>PerformanceRating</th>\n",
       "      <th>RelationshipSatisfaction</th>\n",
       "      <th>StockOptionLevel</th>\n",
       "      <th>TotalWorkingYears</th>\n",
       "      <th>TrainingTimesLastYear</th>\n",
       "      <th>WorkLifeBalance</th>\n",
       "      <th>YearsAtCompany</th>\n",
       "      <th>YearsInCurrentRole</th>\n",
       "      <th>YearsSinceLastPromotion</th>\n",
       "      <th>YearsWithCurrManager</th>\n",
       "    </tr>\n",
       "  </thead>\n",
       "  <tbody>\n",
       "    <tr>\n",
       "      <th>0</th>\n",
       "      <td>21</td>\n",
       "      <td>0.0</td>\n",
       "      <td>Travel_Rarely</td>\n",
       "      <td>391</td>\n",
       "      <td>Research_Development</td>\n",
       "      <td>15</td>\n",
       "      <td>College</td>\n",
       "      <td>Life_Sciences</td>\n",
       "      <td>High</td>\n",
       "      <td>Male</td>\n",
       "      <td>...</td>\n",
       "      <td>Excellent</td>\n",
       "      <td>Very_High</td>\n",
       "      <td>0</td>\n",
       "      <td>0</td>\n",
       "      <td>6</td>\n",
       "      <td>Better</td>\n",
       "      <td>0</td>\n",
       "      <td>0</td>\n",
       "      <td>0</td>\n",
       "      <td>0</td>\n",
       "    </tr>\n",
       "    <tr>\n",
       "      <th>21</th>\n",
       "      <td>19</td>\n",
       "      <td>0.0</td>\n",
       "      <td>Travel_Rarely</td>\n",
       "      <td>1181</td>\n",
       "      <td>Research_Development</td>\n",
       "      <td>3</td>\n",
       "      <td>Below_College</td>\n",
       "      <td>Medical</td>\n",
       "      <td>Medium</td>\n",
       "      <td>Female</td>\n",
       "      <td>...</td>\n",
       "      <td>Excellent</td>\n",
       "      <td>Very_High</td>\n",
       "      <td>0</td>\n",
       "      <td>1</td>\n",
       "      <td>3</td>\n",
       "      <td>Better</td>\n",
       "      <td>1</td>\n",
       "      <td>0</td>\n",
       "      <td>0</td>\n",
       "      <td>0</td>\n",
       "    </tr>\n",
       "    <tr>\n",
       "      <th>42</th>\n",
       "      <td>45</td>\n",
       "      <td>0.0</td>\n",
       "      <td>Travel_Rarely</td>\n",
       "      <td>252</td>\n",
       "      <td>Research_Development</td>\n",
       "      <td>2</td>\n",
       "      <td>Bachelor</td>\n",
       "      <td>Life_Sciences</td>\n",
       "      <td>Medium</td>\n",
       "      <td>Female</td>\n",
       "      <td>...</td>\n",
       "      <td>Excellent</td>\n",
       "      <td>Very_High</td>\n",
       "      <td>0</td>\n",
       "      <td>1</td>\n",
       "      <td>3</td>\n",
       "      <td>Better</td>\n",
       "      <td>1</td>\n",
       "      <td>0</td>\n",
       "      <td>0</td>\n",
       "      <td>0</td>\n",
       "    </tr>\n",
       "    <tr>\n",
       "      <th>63</th>\n",
       "      <td>23</td>\n",
       "      <td>0.0</td>\n",
       "      <td>Travel_Rarely</td>\n",
       "      <td>373</td>\n",
       "      <td>Research_Development</td>\n",
       "      <td>1</td>\n",
       "      <td>College</td>\n",
       "      <td>Life_Sciences</td>\n",
       "      <td>Very_High</td>\n",
       "      <td>Male</td>\n",
       "      <td>...</td>\n",
       "      <td>Outstanding</td>\n",
       "      <td>Very_High</td>\n",
       "      <td>1</td>\n",
       "      <td>1</td>\n",
       "      <td>2</td>\n",
       "      <td>Better</td>\n",
       "      <td>1</td>\n",
       "      <td>0</td>\n",
       "      <td>0</td>\n",
       "      <td>1</td>\n",
       "    </tr>\n",
       "    <tr>\n",
       "      <th>84</th>\n",
       "      <td>30</td>\n",
       "      <td>1.0</td>\n",
       "      <td>Travel_Rarely</td>\n",
       "      <td>945</td>\n",
       "      <td>Sales</td>\n",
       "      <td>9</td>\n",
       "      <td>Bachelor</td>\n",
       "      <td>Medical</td>\n",
       "      <td>Medium</td>\n",
       "      <td>Male</td>\n",
       "      <td>...</td>\n",
       "      <td>Excellent</td>\n",
       "      <td>High</td>\n",
       "      <td>0</td>\n",
       "      <td>1</td>\n",
       "      <td>3</td>\n",
       "      <td>Good</td>\n",
       "      <td>1</td>\n",
       "      <td>0</td>\n",
       "      <td>0</td>\n",
       "      <td>0</td>\n",
       "    </tr>\n",
       "  </tbody>\n",
       "</table>\n",
       "<p>5 rows × 31 columns</p>\n",
       "</div>"
      ],
      "text/plain": [
       "    Age  Attrition BusinessTravel  DailyRate            Department  \\\n",
       "0    21        0.0  Travel_Rarely        391  Research_Development   \n",
       "21   19        0.0  Travel_Rarely       1181  Research_Development   \n",
       "42   45        0.0  Travel_Rarely        252  Research_Development   \n",
       "63   23        0.0  Travel_Rarely        373  Research_Development   \n",
       "84   30        1.0  Travel_Rarely        945                 Sales   \n",
       "\n",
       "    DistanceFromHome      Education EducationField EnvironmentSatisfaction  \\\n",
       "0                 15        College  Life_Sciences                    High   \n",
       "21                 3  Below_College        Medical                  Medium   \n",
       "42                 2       Bachelor  Life_Sciences                  Medium   \n",
       "63                 1        College  Life_Sciences               Very_High   \n",
       "84                 9       Bachelor        Medical                  Medium   \n",
       "\n",
       "    Gender  ...  PerformanceRating RelationshipSatisfaction  StockOptionLevel  \\\n",
       "0     Male  ...          Excellent                Very_High                 0   \n",
       "21  Female  ...          Excellent                Very_High                 0   \n",
       "42  Female  ...          Excellent                Very_High                 0   \n",
       "63    Male  ...        Outstanding                Very_High                 1   \n",
       "84    Male  ...          Excellent                     High                 0   \n",
       "\n",
       "   TotalWorkingYears TrainingTimesLastYear WorkLifeBalance  YearsAtCompany  \\\n",
       "0                  0                     6          Better               0   \n",
       "21                 1                     3          Better               1   \n",
       "42                 1                     3          Better               1   \n",
       "63                 1                     2          Better               1   \n",
       "84                 1                     3            Good               1   \n",
       "\n",
       "    YearsInCurrentRole  YearsSinceLastPromotion YearsWithCurrManager  \n",
       "0                    0                        0                    0  \n",
       "21                   0                        0                    0  \n",
       "42                   0                        0                    0  \n",
       "63                   0                        0                    1  \n",
       "84                   0                        0                    0  \n",
       "\n",
       "[5 rows x 31 columns]"
      ]
     },
     "execution_count": 11,
     "metadata": {},
     "output_type": "execute_result"
    }
   ],
   "source": [
    "# Buat ukuran sample sebesar 70\n",
    "sample_size = 70\n",
    "\n",
    "# Tampung ukuran populasi ke variabel pop_size\n",
    "pop_size = len(attrition)\n",
    "\n",
    "# Hitung interval\n",
    "interval = pop_size // sample_size\n",
    "\n",
    "# Sampel 70 baris secara sistematis\n",
    "attrition_sys_samp = attrition.loc[::interval]\n",
    "\n",
    "\n",
    "attrition_sys_samp.head()"
   ]
  },
  {
   "attachments": {},
   "cell_type": "markdown",
   "metadata": {},
   "source": [
    "*Systematic Sampling* memiliki masalah: jika data telah diurutkan, atau ada semacam pola atau makna di balik urutan baris, maka sampel yang dihasilkan mungkin tidak mewakili keseluruhan populasi. Masalahnya dapat diselesaikan dengan mengacak baris, tetapi *Systematic Sampling* akan menjadi setara dengan *Simple Random Sampling*."
   ]
  },
  {
   "cell_type": "code",
   "execution_count": 12,
   "metadata": {},
   "outputs": [
    {
     "data": {
      "image/png": "[encoded data removed]",
      "text/plain": [
       "<Figure size 720x360 with 1 Axes>"
      ]
     },
     "metadata": {
      "needs_background": "light"
     },
     "output_type": "display_data"
    }
   ],
   "source": [
    "# Tambah kolom index\n",
    "attrition_pop_id = attrition.reset_index()\n",
    "\n",
    "# Plot YearsAtCompany vs. index \n",
    "attrition_pop_id.plot(x='index',y='YearsAtCompany',kind='scatter',figsize=(10,5))\n",
    "plt.show()"
   ]
  },
  {
   "attachments": {},
   "cell_type": "markdown",
   "metadata": {},
   "source": [
    "Terlihat pada nilai di kolom 'YearsAtCompany' terurut secara ascending. Jika kita menggunakan *Systematic Sampling* menggunakan suatu interval tanpa mengacak nya telebih dahulu maka sample yang didapat tidak akan representatif terhadap populasi\n",
    "\n",
    "*Systematic Sampling* aman digunakan jika tidak terdapat suatu pola didalam scatterplot"
   ]
  },
  {
   "cell_type": "code",
   "execution_count": 13,
   "metadata": {},
   "outputs": [
    {
     "data": {
      "image/png": "[encoded data removed]",
      "text/plain": [
       "<Figure size 720x360 with 1 Axes>"
      ]
     },
     "metadata": {
      "needs_background": "light"
     },
     "output_type": "display_data"
    }
   ],
   "source": [
    "# Acak tiap baris\n",
    "attrition_shuffled = attrition.sample(frac=1)\n",
    "\n",
    "\n",
    "attrition_shuffled = attrition_shuffled.reset_index(drop=True).reset_index()\n",
    "\n",
    "\n",
    "attrition_shuffled.plot(x='index',y='YearsAtCompany',kind='scatter',figsize=(10,5))\n",
    "plt.show()"
   ]
  },
  {
   "attachments": {},
   "cell_type": "markdown",
   "metadata": {},
   "source": [
    "*Systematic Sampling* tidak akan menghasilkan sampel yang mirip dengan *Simple Random Sampling* jika data diurutkan dengan cara tertentu."
   ]
  },
  {
   "attachments": {},
   "cell_type": "markdown",
   "metadata": {},
   "source": [
    "### Stratified and weighted random sampling\n",
    "\n",
    "- *Stratified Sampling* adalah suatu teknik yang memungkinkan kita untuk mengambil sampel populasi yang berisi subkelompok.\n",
    "- *Stratified Sampling* dilakukan dengan cara membagi seluruh populasi menjadi kelompok-kelompok homogen yang disebut strata.\n",
    "- *Stratified sampling* berguna jika kita peduli tentang subkelompok"
   ]
  },
  {
   "attachments": {},
   "cell_type": "markdown",
   "metadata": {},
   "source": [
    "#### **Proportional stratified sampling**\n",
    "- *Proportional stratified sampling* menghasilkan ukuran subkelompok dalam sampel yang mewakili ukuran subkelompok dalam populasi. "
   ]
  },
  {
   "cell_type": "code",
   "execution_count": 22,
   "metadata": {},
   "outputs": [
    {
     "name": "stdout",
     "output_type": "stream",
     "text": [
      "Proporsi Tingkat Pendidikan Karyawan Pada Populasi\n",
      "Bachelor         0.389116\n",
      "Master           0.270748\n",
      "College          0.191837\n",
      "Below_College    0.115646\n",
      "Doctor           0.032653\n",
      "Name: Education, dtype: float64\n",
      "\n",
      "Proporsi Tingkat Pendidikan Karyawan Pada Sample\n",
      "Bachelor         0.414966\n",
      "Master           0.258503\n",
      "College          0.190476\n",
      "Below_College    0.122449\n",
      "Doctor           0.013605\n",
      "Name: Education, dtype: float64\n"
     ]
    }
   ],
   "source": [
    "# Proporsi karyawan berdasarkan tingkat Pendidikan\n",
    "education_counts_pop = attrition['Education'].value_counts(normalize=True)\n",
    "\n",
    "# Sample 10% dari data\n",
    "education_samp = attrition.sample(frac=0.1,random_state=2022)\n",
    "education_counts_samp = education_samp['Education'].value_counts(normalize=True)\n",
    "\n",
    "\n",
    "# Print education_counts_pop\n",
    "print(\"Proporsi Tingkat Pendidikan Karyawan Pada Populasi\")\n",
    "print(education_counts_pop)\n",
    "\n",
    "# Print education_counts_pop\n",
    "print(\"\\nProporsi Tingkat Pendidikan Karyawan Pada Sample\")\n",
    "print(education_counts_samp)"
   ]
  },
  {
   "attachments": {},
   "cell_type": "markdown",
   "metadata": {},
   "source": [
    "Dapat terlihat bahwa sampel tidak mempresentasikan subkelompok yang ada pada populasi dimana jumlah dari tiap subkelompok pada sampel terlihat berbeda dengan yang berada pada populasi"
   ]
  },
  {
   "cell_type": "code",
   "execution_count": 27,
   "metadata": {},
   "outputs": [
    {
     "name": "stdout",
     "output_type": "stream",
     "text": [
      "Proporsi Tingkat Pendidikan Karyawan Pada Populasi\n",
      "Bachelor         0.389116\n",
      "Master           0.270748\n",
      "College          0.191837\n",
      "Below_College    0.115646\n",
      "Doctor           0.032653\n",
      "Name: Education, dtype: float64\n",
      "\n",
      "Proporsi Tingkat Pendidikan Karyawan Pada Sampel\n",
      "Bachelor         0.389116\n",
      "Master           0.270748\n",
      "College          0.191837\n",
      "Below_College    0.115646\n",
      "Doctor           0.032653\n",
      "Name: Education, dtype: float64\n"
     ]
    }
   ],
   "source": [
    "# Proporsi karyawan berdasarkan tingkat Pendidikan\n",
    "education_counts_pop = attrition['Education'].value_counts(normalize=True)\n",
    "\n",
    "# Print education_counts_pop\n",
    "print(\"Proporsi Tingkat Pendidikan Karyawan Pada Populasi\")\n",
    "print(education_counts_pop)\n",
    "\n",
    "# Proportional stratified sampling untuk 40% dari setiap kelompok Pendidikan\n",
    "attrition_strat = attrition.groupby('Education')\\\n",
    "\t.sample(frac=0.4, random_state=2022)\n",
    "\n",
    "# Hitung proporsi tingkat Pendidikan dari attrition_strat\n",
    "education_counts_strat = attrition['Education'].value_counts(normalize=True)\n",
    "\n",
    "# Print education_counts_strat\n",
    "print(\"\\nProporsi Tingkat Pendidikan Karyawan Pada Sampel\")\n",
    "print(education_counts_strat)"
   ]
  },
  {
   "attachments": {},
   "cell_type": "markdown",
   "metadata": {},
   "source": [
    "Dengan Proportional stratified sampling maka proporsi dari tiap subkelas pada populasi dan sampel akan sama"
   ]
  },
  {
   "attachments": {},
   "cell_type": "markdown",
   "metadata": {},
   "source": [
    "#### **Equal counts stratified sampling**\n",
    "\n",
    "Jika satu subkelompok lebih besar dari subkelompok lain dalam populasi, tetapi kita tidak ingin mencerminkan perbedaan itu dalam analisis kita, maka kita dapat menggunakan **equal counts stratified sampling** untuk menghasilkan sampel di mana setiap subkelompok memiliki jumlah data yang sama. \n",
    "\n",
    "Misalnya, jika kita menganalisis golongan darah, O adalah golongan darah yang paling umum di seluruh dunia, tetapi kita mungkin ingin memiliki jumlah O, A, B, dan AB yang sama dalam sampel kita."
   ]
  },
  {
   "cell_type": "code",
   "execution_count": 29,
   "metadata": {},
   "outputs": [
    {
     "name": "stdout",
     "output_type": "stream",
     "text": [
      "Below_College    0.2\n",
      "College          0.2\n",
      "Bachelor         0.2\n",
      "Master           0.2\n",
      "Doctor           0.2\n",
      "Name: Education, dtype: float64\n"
     ]
    }
   ],
   "source": [
    "# Dapatkan 30 karyawan dari setiap grup Pendidikan\n",
    "attrition_eq = attrition.groupby('Education')\\\n",
    "\t.sample(n=30, random_state=2022)      \n",
    "\n",
    "# Dapatkan proporsi dari attrition_eq\n",
    "education_counts_eq = attrition_eq['Education'].value_counts(normalize=True)\n",
    "\n",
    "# Print Hasil\n",
    "print(education_counts_eq)"
   ]
  },
  {
   "attachments": {},
   "cell_type": "markdown",
   "metadata": {},
   "source": [
    "Jika kita ingin setiap subkelompok memiliki bobot yang sama dalam analisis kita, maka **equal counts stratified sampling** adalah teknik yang tepat."
   ]
  },
  {
   "attachments": {},
   "cell_type": "markdown",
   "metadata": {},
   "source": [
    "#### **Weighted sampling**\n",
    "\n",
    "*Stratified sampling* menyediakan aturan tentang probabilitas suatu baris dari dataset kita di tingkat subkelompok. Generalisasi dari hal ini adalah **Weighted sampling**, yang memungkinkan kita menentukan aturan tentang probabilitas pemilihan suatu baris. Probabilitas memilih baris tertentu sebanding dengan nilai bobot untuk baris tersebut."
   ]
  },
  {
   "cell_type": "code",
   "execution_count": 36,
   "metadata": {},
   "outputs": [
    {
     "data": {
      "image/png": "[encoded data removed]",
      "text/plain": [
       "<Figure size 720x360 with 1 Axes>"
      ]
     },
     "metadata": {
      "needs_background": "light"
     },
     "output_type": "display_data"
    }
   ],
   "source": [
    "# Sample 400 karyawan yang dibobotkan dengan YearsAtCompany\n",
    "attrition_weight = attrition.sample(n=400, weights=\"YearsAtCompany\")\n",
    "\n",
    "# Plot YearsAtCompany dari attrition_weight sebagai histogram\n",
    "attrition['YearsAtCompany'].hist(bins=np.arange(0, 41, 1),label='Populasi')\n",
    "attrition_weight['YearsAtCompany'].hist(bins=np.arange(0, 41, 1),figsize=(10,5),label='Weighted Sample')\n",
    "plt.grid(False)\n",
    "plt.legend()\n",
    "plt.show()"
   ]
  },
  {
   "cell_type": "code",
   "execution_count": 42,
   "metadata": {},
   "outputs": [
    {
     "name": "stdout",
     "output_type": "stream",
     "text": [
      "Rata - rata kolom YearsAtCompany pada populasi : 7.0081632653061225\n",
      "Rata - rata kolom YearsAtCompany pada sampel   : 11.0375\n"
     ]
    }
   ],
   "source": [
    "print(f'Rata - rata kolom YearsAtCompany pada populasi : {attrition[\"YearsAtCompany\"].mean()}')\n",
    "print(f'Rata - rata kolom YearsAtCompany pada sampel   : {attrition_weight[\"YearsAtCompany\"].mean()}')"
   ]
  },
  {
   "attachments": {},
   "cell_type": "markdown",
   "metadata": {},
   "source": [
    "Rata-rata *Weighted sampling* adalah sekitar 11, yang lebih tinggi dari rata-rata populasi sekitar 7. Fakta bahwa kedua angka tersebut berbeda berarti bahwa *Weighted sampling* itu bias."
   ]
  }
 ],
 "metadata": {
  "kernelspec": {
   "display_name": "Python 3",
   "language": "python",
   "name": "python3"
  },
  "language_info": {
   "codemirror_mode": {
    "name": "ipython",
    "version": 3
   },
   "file_extension": ".py",
   "mimetype": "text/x-python",
   "name": "python",
   "nbconvert_exporter": "python",
   "pygments_lexer": "ipython3",
   "version": "3.9.7"
  },
  "orig_nbformat": 4,
  "vscode": {
   "interpreter": {
    "hash": "1d5c1156327dacead463cc502c55ebae8ce9c8c01979cf154173ff808e75bf55"
   }
  }
 },
 "nbformat": 4,
 "nbformat_minor": 2
}

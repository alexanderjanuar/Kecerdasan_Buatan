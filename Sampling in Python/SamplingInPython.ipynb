{
 "cells": [
  {
   "attachments": {},
   "cell_type": "markdown",
   "metadata": {},
   "source": [
    "# Sampling in Python\n",
    "\n",
    "Pengambilan sampel dengan Python adalah landasan statistik inferensi dan pengujian hipotesis. Ini merupakan keterampilan yang digunakan dalam analisis survei dan desain eksperimental untuk menarik kesimpulan tanpa mensurvei seluruh populasi."
   ]
  },
  {
   "cell_type": "code",
   "execution_count": 1,
   "metadata": {},
   "outputs": [],
   "source": [
    "# Importing pandas\n",
    "import pandas as pd\n",
    "\n",
    "# Importing Data\n",
    "attrition = pd.read_feather(\"Data/attrition.feather\")\n",
    "spotify = pd.read_feather(\"Data/spotify_2000_2020.feather\")\n",
    "coffee = pd.read_feather(\"Data/coffee_ratings_full.feather\")"
   ]
  },
  {
   "attachments": {},
   "cell_type": "markdown",
   "metadata": {},
   "source": [
    "## Introduction to Sampling\n",
    "Pengenalan kepada sampling dan mempelajari permasalahan yang disebabkan oleh convenience sampling *convenience sampling* (Sampling Kebetulan) dan mempelajari perbedaan antara *true randomness* dan *pseudo-randomness*"
   ]
  },
  {
   "attachments": {},
   "cell_type": "markdown",
   "metadata": {},
   "source": [
    "### Sampling and point estimates\n",
    "\n",
    "- **Sampling** adalah proses di mana porsi dari suatu populasi diseleksi agar dapat mewakilkan populasi tersebut.\n",
    "- **Population** adalah seluruh bagian data yang lengkap\n",
    "  - Tidak harus mengacu kepada orang\n",
    "  - Biasanya, kita tidak tahu berapa jumlah pasti dari seluruh populasi\n",
    "- **Sample** merupakan bagian kecil dari populasi yang dianggap dapat mewakilkan seluruh populasi\n",
    "\n",
    "Sampling tidak disarankan dilakukan ketika populasi/data yang dimiliki berjumlah sedikit"
   ]
  },
  {
   "attachments": {},
   "cell_type": "markdown",
   "metadata": {},
   "source": [
    "#### Sampling sederhana dengan Pandas"
   ]
  },
  {
   "cell_type": "code",
   "execution_count": 10,
   "metadata": {},
   "outputs": [
    {
     "name": "stdout",
     "output_type": "stream",
     "text": [
      "Rata - rata durasi dari populasi : 3.8521519140900073\n",
      "Rata - rata durasi dari sample   : 3.8542872333333333\n"
     ]
    }
   ],
   "source": [
    "# Sample 1000 baris dari data spotify\n",
    "spotify_sample = spotify.sample(n=1000)\n",
    "\n",
    "# Hitung rata - rata dari kolom 'duration_minutes' dari data spotify\n",
    "mean_dur_pop = spotify[\"duration_minutes\"].mean()\n",
    "\n",
    "# Hitung rata - rata dari kolom 'duration_minutes' dari data spotify sample\n",
    "mean_dur_samp = spotify_sample[\"duration_minutes\"].mean()\n",
    "\n",
    "# Print the means\n",
    "print(f'Rata - rata durasi dari populasi : {mean_dur_pop}')\n",
    "print(f'Rata - rata durasi dari sample   : {mean_dur_samp}')"
   ]
  },
  {
   "attachments": {},
   "cell_type": "markdown",
   "metadata": {},
   "source": [
    "Dapat terlihat bahwa nilai rata rata dari **sample** dan **populasi** terlihat mendekati namun tidak sama persis"
   ]
  },
  {
   "attachments": {},
   "cell_type": "markdown",
   "metadata": {},
   "source": [
    "#### Sampling sederhana dengan Numpy"
   ]
  },
  {
   "cell_type": "code",
   "execution_count": 16,
   "metadata": {},
   "outputs": [
    {
     "name": "stdout",
     "output_type": "stream",
     "text": [
      "Rata - rata loudness dari populasi : -7.366856851353947\n",
      "Rata - rata loudness dari sample   : -7.268770000000001\n"
     ]
    }
   ],
   "source": [
    "#Import numpy\n",
    "import numpy as np\n",
    "\n",
    "# Buat series pandas dari kolom 'loudness' dari data populasi\n",
    "loudness_pop = spotify['loudness']\n",
    "\n",
    "# Sample 100 nilai dari loudness_pop\n",
    "loudness_samp = loudness_pop.sample(n=100)\n",
    "\n",
    "# Hitung rata - rata loudness_pop\n",
    "mean_loudness_pop = np.mean(loudness_pop)\n",
    "\n",
    "# Hitung rata - rata loudness_samp\n",
    "mean_loudness_samp = np.mean(loudness_samp)\n",
    "\n",
    "# Print the means\n",
    "print(f'Rata - rata loudness dari populasi : {mean_loudness_pop}')\n",
    "print(f'Rata - rata loudness dari sample   : {mean_loudness_samp}')"
   ]
  },
  {
   "attachments": {},
   "cell_type": "markdown",
   "metadata": {},
   "source": [
    "Dapat terlihat lagi bahwa nilai rata rata dari **sample** dan **populasi** terlihat mendekati namun tidak sama persis"
   ]
  },
  {
   "attachments": {},
   "cell_type": "markdown",
   "metadata": {},
   "source": [
    "### Convenience Sampling"
   ]
  },
  {
   "cell_type": "code",
   "execution_count": null,
   "metadata": {},
   "outputs": [],
   "source": []
  }
 ],
 "metadata": {
  "kernelspec": {
   "display_name": "Python 3",
   "language": "python",
   "name": "python3"
  },
  "language_info": {
   "codemirror_mode": {
    "name": "ipython",
    "version": 3
   },
   "file_extension": ".py",
   "mimetype": "text/x-python",
   "name": "python",
   "nbconvert_exporter": "python",
   "pygments_lexer": "ipython3",
   "version": "3.9.7"
  },
  "orig_nbformat": 4,
  "vscode": {
   "interpreter": {
    "hash": "1d5c1156327dacead463cc502c55ebae8ce9c8c01979cf154173ff808e75bf55"
   }
  }
 },
 "nbformat": 4,
 "nbformat_minor": 2
}
